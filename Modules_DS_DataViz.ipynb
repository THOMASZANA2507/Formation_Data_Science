{
  "cells": [
    {
      "cell_type": "markdown",
      "metadata": {
        "id": "c-WkW-dCToW4"
      },
      "source": [
        "**Modules/Bibliothèques pour la Data Science**"
      ]
    },
    {
      "cell_type": "markdown",
      "metadata": {
        "id": "ACGNkmRrTvPf"
      },
      "source": [
        "**I) Bibliothèques de base: Numpy et Pandas**"
      ]
    },
    {
      "cell_type": "markdown",
      "metadata": {
        "id": "-aj0eWrOUVzf"
      },
      "source": [
        "**1) Numpy**"
      ]
    },
    {
      "cell_type": "markdown",
      "metadata": {
        "id": "A7XYfFoIKdl7"
      },
      "source": [
        "**a) Installation et connaissances sur Numpy**"
      ]
    },
    {
      "cell_type": "markdown",
      "metadata": {
        "id": "cKjjHzNvCOWv"
      },
      "source": [
        "NumPy (Numerical Python) est la bibliothèque la plus populaire de calcul scientifique en Python. Ainsi, elle permet d’effectuer les calculs scientifiques de base et de manipuler assez facilement les tableaux multidimensionnels. En gros NumPy permet de faire :\n",
        "\n",
        "\n",
        "*   de l’Analyse numérique\n",
        "*   de l’Algèbre Linéaire\n",
        "*   du Calcul matriciel\n",
        "*   etc..."
      ]
    },
    {
      "cell_type": "markdown",
      "metadata": {
        "id": "U2NnF3HcIAeh"
      },
      "source": [
        "Par définition un tableau ou Array en anglais est une structure de données constituée d’une collection d’élément (du même type) identifié par un index.\n",
        "\n",
        "![array.png](data:image/png;base64,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)"
      ]
    },
    {
      "cell_type": "markdown",
      "metadata": {
        "id": "TntSJzJPID7Y"
      },
      "source": [
        "Nous sommes dans un cas assez simple en deux dimensions mais on a aussi des exemples assez classiques en 3 dimensions et plus : Une image est par exemple en 3 dimensions (la hauteur, la largeur et le nombre de canaux)\n",
        "\n",
        "![content_arrays-axes.png](data:image/png;base64,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)"
      ]
    },
    {
      "cell_type": "code",
      "execution_count": null,
      "metadata": {
        "colab": {
          "base_uri": "https://localhost:8080/"
        },
        "id": "0uJTtGcdChpH",
        "outputId": "95f206a8-89f7-4ba5-a714-680d5574e452"
      },
      "outputs": [
        {
          "name": "stdout",
          "output_type": "stream",
          "text": [
            "Requirement already satisfied: numpy in /usr/local/lib/python3.10/dist-packages (1.23.5)\n"
          ]
        }
      ],
      "source": [
        "#Intaller numpy\n",
        "!pip install numpy"
      ]
    },
    {
      "cell_type": "code",
      "execution_count": null,
      "metadata": {
        "colab": {
          "base_uri": "https://localhost:8080/"
        },
        "id": "tskIJ60xCwDA",
        "outputId": "d576e9f4-dc8f-4300-f13b-2ae63031b7fa"
      },
      "outputs": [
        {
          "data": {
            "text/plain": [
              "array([1, 2, 3])"
            ]
          },
          "execution_count": 30,
          "metadata": {},
          "output_type": "execute_result"
        }
      ],
      "source": [
        "import numpy as np\n",
        "#Créer un array\n",
        "a = np.array([1,2,3])\n",
        "a"
      ]
    },
    {
      "cell_type": "code",
      "execution_count": null,
      "metadata": {
        "id": "UAA7KAqxI9zQ"
      },
      "outputs": [],
      "source": [
        "#Création d'array à partir de tuples\n",
        "b = np.array([(1,2,3),(4,5,6),(7,8,9),(10,11,12)])\n",
        "print(b)"
      ]
    },
    {
      "cell_type": "code",
      "execution_count": null,
      "metadata": {
        "id": "_zaCf_SFJEGI"
      },
      "outputs": [],
      "source": [
        "#Création à partir de listes\n",
        "b = np.array([[1,2,3],[4,5,6],[7,8,9],[10,11,12]])\n",
        "b"
      ]
    },
    {
      "cell_type": "code",
      "execution_count": null,
      "metadata": {
        "id": "Q8lGUkw7JXAl"
      },
      "outputs": [],
      "source": [
        "#Matrice de dimension 3*3*3\n",
        "c = np.array([[[0,1,2],[3,4,5],[6,7,8]],[[9,10,11], [12,13,14], [15,16,17]], [[18,19,20], [21,22,23], [24,25,26]]])\n",
        "print(c)"
      ]
    },
    {
      "cell_type": "code",
      "execution_count": null,
      "metadata": {
        "id": "AJ5vulBgH0t8"
      },
      "outputs": [],
      "source": [
        "# Un tableau en 2-D de zéros de 2 lignes et 3 colones\n",
        "d = np.zeros((2,3))\n",
        "d"
      ]
    },
    {
      "cell_type": "code",
      "execution_count": null,
      "metadata": {
        "id": "N6LeW9YwJuWY"
      },
      "outputs": [],
      "source": [
        "# Un tableau en 2-D de uns de 2 lignes et 3 colones\n",
        "d = np.ones((2,3))\n",
        "d"
      ]
    },
    {
      "cell_type": "code",
      "execution_count": null,
      "metadata": {
        "id": "620DBUIzJ4Ne"
      },
      "outputs": [],
      "source": [
        "# Un tableau de nombres compris entre 10 et 20\n",
        "e = np.arange(10,21)\n",
        "# Un tableau des nombres paires compris entre 0 et 20\n",
        "f = np.arange(0,20,2)\n",
        "print(e,'\\n',f)"
      ]
    },
    {
      "cell_type": "code",
      "execution_count": null,
      "metadata": {
        "id": "FP-bJE8dKFjf"
      },
      "outputs": [],
      "source": [
        "# Matrice identité 3x3\n",
        "g = np.eye(3)\n",
        "g"
      ]
    },
    {
      "cell_type": "code",
      "execution_count": null,
      "metadata": {
        "id": "h-WQdi1RKKhv"
      },
      "outputs": [],
      "source": [
        "# un nombre aléatoire\n",
        "alea = np.random.random()\n",
        "alea\n",
        "# un tableau de N nombres aléatoires\n",
        "N=3\n",
        "h = np.random.random(N)\n",
        "h"
      ]
    },
    {
      "cell_type": "markdown",
      "metadata": {
        "id": "ZUDw37GzKnxo"
      },
      "source": [
        "**b) Les différents types de données**"
      ]
    },
    {
      "cell_type": "code",
      "execution_count": null,
      "metadata": {
        "colab": {
          "base_uri": "https://localhost:8080/"
        },
        "id": "Jly66XKEKwD_",
        "outputId": "1b481148-eaef-4f4b-f27a-09504ded3507"
      },
      "outputs": [
        {
          "name": "stdout",
          "output_type": "stream",
          "text": [
            "[1 2 3] \n",
            " [1. 2. 3.] \n",
            " [1.+0.j 2.+0.j 3.+0.j]\n"
          ]
        },
        {
          "name": "stderr",
          "output_type": "stream",
          "text": [
            "<ipython-input-48-6ce5a23b27c7>:7: DeprecationWarning: `np.complex` is a deprecated alias for the builtin `complex`. To silence this warning, use `complex` by itself. Doing this will not modify any behavior and is safe. If you specifically wanted the numpy scalar type, use `np.complex128` here.\n",
            "Deprecated in NumPy 1.20; for more details and guidance: https://numpy.org/devdocs/release/1.20.0-notes.html#deprecations\n",
            "  a_complex = np.array([1,2,3], dtype=np.complex)\n"
          ]
        }
      ],
      "source": [
        "#np.float32, np.int64, np.complex, np.bool, np.string\n",
        "#un tableau d'entier\n",
        "a = np.array([1,2,3], dtype=np.int16)\n",
        "#un tableau de float\n",
        "a_float = np.array([1,2,3], dtype=float)\n",
        "#un tableau de complex\n",
        "a_complex = np.array([1,2,3], dtype=np.complex)\n",
        "print(a,'\\n',a_float,'\\n',a_complex)"
      ]
    },
    {
      "cell_type": "markdown",
      "metadata": {
        "id": "wfZh-Nj5LXIa"
      },
      "source": [
        "**c) Quelques informations sur vos tableaux NumPy**"
      ]
    },
    {
      "cell_type": "code",
      "execution_count": null,
      "metadata": {
        "id": "3HVjOa3lLojG"
      },
      "outputs": [],
      "source": [
        "# La forme du tableau ex (3x3) ou (4x2x2)\n",
        "print(a.shape)\n",
        "# Nombre d'éléments dans le tableau.\n",
        "print(len(a))\n",
        "# Nombre de dimensions du tableau.\n",
        "print(b.ndim)\n",
        "# Le nombre total de valeurs contenues dans le tableau.\n",
        "print(d.size)\n",
        "#Le type du tableau\n",
        "b.dtype"
      ]
    },
    {
      "cell_type": "markdown",
      "metadata": {
        "id": "1-UA0s0eMDta"
      },
      "source": [
        "**d) Les Calculs et les Opérations**"
      ]
    },
    {
      "cell_type": "code",
      "execution_count": null,
      "metadata": {
        "id": "bhWU2dTXMHk_"
      },
      "outputs": [],
      "source": [
        "# Opérations arithmétiques de base\n",
        "print(np.subtract(a,b))\n",
        "print(np.add(b,a))\n",
        "print(np.multiply(a,b))\n",
        "# produit scalaire de deux vecteurs\n",
        "f = np.arange(1,11)\n",
        "g = np.arange(1,21,2)\n",
        "f.dot(g)"
      ]
    },
    {
      "cell_type": "code",
      "execution_count": null,
      "metadata": {
        "id": "hGijjty7MmXZ"
      },
      "outputs": [],
      "source": [
        "print(np.exp(b),'\\n')\n",
        "print(np.sqrt(b),'\\n')\n",
        "print(np.sin(a),'\\n')\n",
        "print(np.cos(b),'\\n')\n",
        "print(np.log(a),'\\n')"
      ]
    },
    {
      "cell_type": "code",
      "execution_count": null,
      "metadata": {
        "id": "hnHpLkdWPQzo"
      },
      "outputs": [],
      "source": [
        "#Somme des éléments du tableau sur un axe donné.\n",
        "print(a.sum())\n",
        "#le minimum, maximum le long d'un axe donné.\n",
        "print(a.min())\n",
        "print(b.max(axis=1))\n",
        "#La moyenne arithmétique\n",
        "print(a.mean())\n",
        "#matrice de corrélation\n",
        "print(np.corrcoef(b))\n",
        "#L'écart type le long d'un axe donné\n",
        "np.std(b)"
      ]
    },
    {
      "cell_type": "markdown",
      "metadata": {
        "id": "ta-GPpNBPMt6"
      },
      "source": [
        "**e) Manipulation des tableaux**"
      ]
    },
    {
      "cell_type": "code",
      "execution_count": null,
      "metadata": {
        "id": "zeJm9HFUPL0P"
      },
      "outputs": [],
      "source": [
        "#les éléments inférieurs à 3\n",
        "print(f)\n",
        "f[f < 3]"
      ]
    },
    {
      "cell_type": "code",
      "execution_count": null,
      "metadata": {
        "id": "BDWLqe-AP_LP"
      },
      "outputs": [],
      "source": [
        "#Transposition d'un tableau\n",
        "b_transpose = np.transpose(b)\n",
        "print(b_transpose)\n",
        "#Reshape: Donne une nouvelle forme à un tableau sans modifier ses données.\n",
        "#f en shape (10,) en shape (5,2)\n",
        "f_reshape = f.reshape(5,2)\n",
        "print(f_reshape)\n",
        "#concatenation de deux tableaux\n",
        "np.concatenate((f,g), axis=0)"
      ]
    },
    {
      "cell_type": "markdown",
      "metadata": {
        "id": "ks4ZycLlUVlZ"
      },
      "source": [
        "**2) Pandas**\n",
        "\n",
        "Pandas est un puissant outil d’analyse et de manipulation de données (open source) facile à utiliser, écrit en python.\n",
        "![pandas_img.png](data:image/png;base64,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)"
      ]
    },
    {
      "cell_type": "markdown",
      "metadata": {
        "id": "StjB5joMQEQf"
      },
      "source": [
        "**a) Installation de pandas**"
      ]
    },
    {
      "cell_type": "code",
      "execution_count": null,
      "metadata": {
        "id": "KPd3j_zAK2Kh"
      },
      "outputs": [],
      "source": [
        "#L'installation des bibliothèques se fait à travers pip install\n",
        "!pip install pandas"
      ]
    },
    {
      "cell_type": "code",
      "execution_count": null,
      "metadata": {
        "id": "fozjLEc-LGAY"
      },
      "outputs": [],
      "source": [
        "#Pour importer la bibliothèques\n",
        "import pandas as pd"
      ]
    },
    {
      "cell_type": "markdown",
      "metadata": {
        "id": "0kpq5UqaLOwH"
      },
      "source": [
        "**b) Series**"
      ]
    },
    {
      "cell_type": "code",
      "execution_count": null,
      "metadata": {
        "id": "1z6z7vF1LT2r"
      },
      "outputs": [],
      "source": [
        "#Series, Création à partir d'une liste\n",
        "import numpy as np\n",
        "data = pd.Series([1.0, 2.0 , 2.25, 3.5])\n",
        "data.values"
      ]
    },
    {
      "cell_type": "code",
      "execution_count": null,
      "metadata": {
        "id": "8LuUnnIGLotD"
      },
      "outputs": [],
      "source": [
        "#Association d'index\n",
        "data.index = ['a','b','c','d']\n",
        "data"
      ]
    },
    {
      "cell_type": "code",
      "execution_count": null,
      "metadata": {
        "id": "sPlyhGPfL5jQ"
      },
      "outputs": [],
      "source": [
        "#Création à partir d'un dictionnaire\n",
        "population_dict = {'Bamako': 2187526,\n",
        "                   'Sikasso': 863310,\n",
        "                   'Segou': 516092,\n",
        "                   'Mopti': 479553,\n",
        "                   'Gao': 340017}\n",
        "population = pd.Series(population_dict)\n",
        "print(population)\n",
        "population.index"
      ]
    },
    {
      "cell_type": "markdown",
      "metadata": {
        "id": "2YcLKTk4Mkq7"
      },
      "source": [
        "**c) Dataframe**\n",
        "\n",
        "Un dataFrame est un tableau à deux dimensions. On peut même dire que c’est une collection de « Series pandas ».\n",
        "\n",
        "![Dataframe.png](data:image/png;base64,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)"
      ]
    },
    {
      "cell_type": "code",
      "execution_count": null,
      "metadata": {
        "id": "Mbzt36rcMWFw"
      },
      "outputs": [],
      "source": [
        "#Deuxième series\n",
        "area_dict = {'Bamako': 105.4,\n",
        "                   'Sikasso': 240.6,\n",
        "                   'Segou': 47.87,\n",
        "                   'Mopti': 118.3,\n",
        "                   'Gao': 71.92}\n",
        "area = pd.Series(area_dict)"
      ]
    },
    {
      "cell_type": "code",
      "execution_count": null,
      "metadata": {
        "id": "kI42p7fTOx-y"
      },
      "outputs": [],
      "source": [
        "#Création du DataFrame\n",
        "cities = pd.DataFrame({'population': population,'area': area})\n",
        "cities"
      ]
    },
    {
      "cell_type": "code",
      "execution_count": null,
      "metadata": {
        "id": "XKKxYDs2PNpc"
      },
      "outputs": [],
      "source": [
        "#Création direct à partir de données brutes\n",
        "data = {'population': [2187526,863310,516092,479553,340017],\n",
        "         'area': [105.4, 240.6,47.87,118.3, 71.92]}\n",
        "cities = pd.DataFrame(data,index=['Bamako','Sikasso','Segou','Mopti','Gao'])\n",
        "cities"
      ]
    },
    {
      "cell_type": "markdown",
      "metadata": {
        "id": "C8nqWTVuPkxU"
      },
      "source": [
        "**d) Opérations de base avec Pandas**"
      ]
    },
    {
      "cell_type": "code",
      "execution_count": null,
      "metadata": {
        "id": "E03CChxQPh3U"
      },
      "outputs": [],
      "source": [
        "# Affichage des données\n",
        "cities.head()\n",
        "cities.tail()"
      ]
    },
    {
      "cell_type": "code",
      "execution_count": null,
      "metadata": {
        "id": "ZS1DksgbQSSh"
      },
      "outputs": [],
      "source": [
        "# Seulement la colonne population\n",
        "print(cities[\"population\"])\n",
        "# Le dataFrame à partir de la 3e ligne\n",
        "cities[2:]"
      ]
    },
    {
      "cell_type": "code",
      "execution_count": null,
      "metadata": {
        "id": "VkhpezouQhYG"
      },
      "outputs": [],
      "source": [
        "# la 1e ligne\n",
        "print(cities.iloc[0])\n",
        "# Les 1e et 2e lignes\n",
        "cities.iloc[[0, 1]]"
      ]
    },
    {
      "cell_type": "code",
      "execution_count": null,
      "metadata": {
        "id": "cwJnkRqvQiE0"
      },
      "outputs": [],
      "source": [
        "#Filtrage\n",
        "print(cities[cities[\"population\"] > 700000 ])\n",
        "#Triage\n",
        "cities.sort_values(by=\"area\", ascending=False)"
      ]
    },
    {
      "cell_type": "code",
      "execution_count": null,
      "metadata": {
        "id": "lw1SgB4vQ7d0"
      },
      "outputs": [],
      "source": [
        "from google.colab import files\n",
        "data_to_load = files.upload()"
      ]
    },
    {
      "cell_type": "code",
      "execution_count": null,
      "metadata": {
        "id": "JPBNeG29SYLW"
      },
      "outputs": [],
      "source": [
        "df = pd.read_csv('cities_vf.csv',sep = ';', index_col='ville')\n",
        "df.head()"
      ]
    },
    {
      "cell_type": "code",
      "execution_count": null,
      "metadata": {
        "id": "edeLjFVdTcq8"
      },
      "outputs": [],
      "source": [
        "from google.colab import files\n",
        "data_to_load = files.upload()"
      ]
    },
    {
      "cell_type": "code",
      "execution_count": null,
      "metadata": {
        "id": "cZ0CswGcTdts"
      },
      "outputs": [],
      "source": [
        "dg = pd.read_json('output.json')\n",
        "dg.head()"
      ]
    },
    {
      "cell_type": "code",
      "execution_count": null,
      "metadata": {
        "id": "la6gnnSPVqnq"
      },
      "outputs": [],
      "source": [
        "data_to_load = files.upload()"
      ]
    },
    {
      "cell_type": "code",
      "execution_count": null,
      "metadata": {
        "id": "gQz6JgzKVsEk"
      },
      "outputs": [],
      "source": [
        "nba = pd.read_csv(\"nba.csv\")\n",
        "#Obtenir des informations sur un dataframe\n",
        "nba.info()"
      ]
    },
    {
      "cell_type": "code",
      "execution_count": null,
      "metadata": {
        "id": "JoJECuANV240"
      },
      "outputs": [],
      "source": [
        "#Taille du dataframe\n",
        "nba.shape"
      ]
    },
    {
      "cell_type": "code",
      "execution_count": null,
      "metadata": {
        "id": "OoQadBOEX-AC"
      },
      "outputs": [],
      "source": [
        "#Statistiques sur les données\n",
        "nba.describe()"
      ]
    },
    {
      "cell_type": "markdown",
      "metadata": {
        "id": "phBaqCwzYKLG"
      },
      "source": [
        "**e) Traiter les valeurs nulles et manipuler vos données avec pandas**"
      ]
    },
    {
      "cell_type": "code",
      "execution_count": null,
      "metadata": {
        "id": "fvH-JW6oYOPd"
      },
      "outputs": [],
      "source": [
        "# On supprime les *null* avec dropna\n",
        "nba_dropna = nba.dropna()\n",
        "# regardons le nombre de données que nous avons maintenant\n",
        "nba_dropna.shape"
      ]
    },
    {
      "cell_type": "code",
      "execution_count": null,
      "metadata": {
        "id": "FSEUqFutYWwv"
      },
      "outputs": [],
      "source": [
        "#Null par colonne\n",
        "nba.isnull().sum()"
      ]
    },
    {
      "cell_type": "code",
      "execution_count": null,
      "metadata": {
        "id": "O0xGa5m0YjTs"
      },
      "outputs": [],
      "source": [
        "# On essaie de voir ce que contient cette colonne\n",
        "nba[\"notes\"].dropna().head(10)"
      ]
    },
    {
      "cell_type": "code",
      "execution_count": null,
      "metadata": {
        "id": "ZQTRSKFjYqG9"
      },
      "outputs": [],
      "source": [
        "# On remplace les *null* par 'unknown' en utilisant fillna\n",
        "nba[\"notes\"].fillna(\"unknown\", inplace=True)"
      ]
    },
    {
      "cell_type": "code",
      "execution_count": null,
      "metadata": {
        "id": "2KfoXbAyYyEs"
      },
      "outputs": [],
      "source": [
        "#On recompte\n",
        "nba.isnull().sum()"
      ]
    },
    {
      "cell_type": "code",
      "execution_count": null,
      "metadata": {
        "id": "aE1fDvAAY06U"
      },
      "outputs": [],
      "source": [
        "#Cest traitements peuvent être automatisé par une fonction\n",
        "def replaceUnknown(row):\n",
        "    if row[\"notes\"] == \"unknown\" :\n",
        "        if row[\"game_location\"] == \"H\" : #home\n",
        "            return row[\"fran_id\"]\n",
        "        elif row[\"game_location\"] == \"A\": #away\n",
        "            return row[\"opp_fran\"]\n",
        "    return row[\"notes\"]"
      ]
    },
    {
      "cell_type": "code",
      "execution_count": null,
      "metadata": {
        "id": "cFOpNFfWZIGV"
      },
      "outputs": [],
      "source": [
        "#On applique la fonction à partir d'apply\n",
        "nba[\"notes\"]=nba.apply(lambda x : replaceUnknown(x), axis=1)"
      ]
    },
    {
      "cell_type": "code",
      "execution_count": null,
      "metadata": {
        "id": "v8YBOOSfZQYV"
      },
      "outputs": [],
      "source": [
        "nba.tail(20)"
      ]
    },
    {
      "cell_type": "markdown",
      "metadata": {
        "id": "goCwyLiQT78N"
      },
      "source": [
        "**II) Bases de données**"
      ]
    },
    {
      "cell_type": "markdown",
      "metadata": {
        "id": "7bs1MoQ0UJB-"
      },
      "source": [
        "**1) SQL**"
      ]
    },
    {
      "cell_type": "markdown",
      "metadata": {
        "id": "r_K-8iPvt8Aa"
      },
      "source": [
        "**a) SQL, Qu'est-ce que c'est?**"
      ]
    },
    {
      "cell_type": "markdown",
      "metadata": {
        "id": "5kRLtjeWtuai"
      },
      "source": [
        "SQL(sigle de Structured Query Language, en français langage de requête structurée) est un langage informatique normalisé servant à exploiter des bases de données relationnelles."
      ]
    },
    {
      "cell_type": "markdown",
      "metadata": {
        "id": "0U9jWI2quGhC"
      },
      "source": [
        "**Qu'est-ce que c'est Sqlite?**\n",
        "\n",
        "SQLite est une bibliothèque qui fournit une base de données légère sur disque ne nécessitant pas de processus serveur distinct et permet d’accéder à la base de données à l’aide d’une variante du langage de requête SQL."
      ]
    },
    {
      "cell_type": "markdown",
      "metadata": {
        "id": "NMmvz8Kiu7RC"
      },
      "source": [
        "**b) Installation de PySQL et Création de base de données**"
      ]
    },
    {
      "cell_type": "code",
      "execution_count": null,
      "metadata": {
        "id": "qCkJNlS0Tnnj"
      },
      "outputs": [],
      "source": [
        "import sqlite3 as sl"
      ]
    },
    {
      "cell_type": "markdown",
      "metadata": {
        "id": "ZQj1zCxRxbzy"
      },
      "source": [
        "Création à partir d'un base de donnée existante"
      ]
    },
    {
      "cell_type": "code",
      "execution_count": null,
      "metadata": {
        "colab": {
          "base_uri": "https://localhost:8080/"
        },
        "id": "qUX7F18lxqP2",
        "outputId": "84bdd0a8-36c9-4a5d-92c4-c175ba600c8c"
      },
      "outputs": [
        {
          "name": "stdout",
          "output_type": "stream",
          "text": [
            "Mounted at /content/drive\n"
          ]
        }
      ],
      "source": [
        "from google.colab import drive\n",
        "drive.mount('/content/drive')"
      ]
    },
    {
      "cell_type": "code",
      "execution_count": null,
      "metadata": {
        "id": "5HqLAFJH5kUZ"
      },
      "outputs": [],
      "source": [
        "from google.colab import files\n",
        "files.upload()"
      ]
    },
    {
      "cell_type": "code",
      "execution_count": null,
      "metadata": {
        "id": "ub1KurCr5xCK"
      },
      "outputs": [],
      "source": [
        "with sl.connect(\"worlcup.db\") as connection:\n",
        "    cursor = connection.cursor()"
      ]
    },
    {
      "cell_type": "code",
      "execution_count": null,
      "metadata": {
        "id": "rUrtGcDY6BVI"
      },
      "outputs": [],
      "source": [
        "rows = cursor.execute(\"SELECT * FROM awards\").fetchone()\n",
        "print(rows)"
      ]
    },
    {
      "cell_type": "markdown",
      "metadata": {
        "id": "A8qht6R2xiaB"
      },
      "source": [
        "Création directe sur colaboratory"
      ]
    },
    {
      "cell_type": "code",
      "execution_count": null,
      "metadata": {
        "id": "n_0KAhLVThJl"
      },
      "outputs": [],
      "source": [
        "with sl.connect(\"contact.db\") as connection:\n",
        "  cursor = connection.cursor()"
      ]
    },
    {
      "cell_type": "markdown",
      "metadata": {
        "id": "Pn819R9oxtYy"
      },
      "source": [
        "**d) Création de tables**"
      ]
    },
    {
      "cell_type": "code",
      "execution_count": null,
      "metadata": {
        "id": "048hdquoxyPR"
      },
      "outputs": [],
      "source": [
        "cursor.execute(\"CREATE TABLE contacte (id INTEGER PRIMARY KEY AUTOINCREMENT,nomComplet TEXT, email TEXT, telephone TEXT)\")\n",
        "connection.commit()"
      ]
    },
    {
      "cell_type": "markdown",
      "metadata": {
        "id": "Lfc8hFv3zMnh"
      },
      "source": [
        "**e) Ajouter des contacts**"
      ]
    },
    {
      "cell_type": "code",
      "execution_count": null,
      "metadata": {
        "id": "J5ZXizkCzNHz"
      },
      "outputs": [],
      "source": [
        "cursor.execute(\"INSERT INTO contacte(nomComplet, email, telephone) VALUES('Ousseynou Diallo', 'ous@fakemail.com', '763887835')\")\n",
        "connection.commit()"
      ]
    },
    {
      "cell_type": "code",
      "execution_count": null,
      "metadata": {
        "id": "ZU-x4bxUzyrZ"
      },
      "outputs": [],
      "source": [
        "cursor.execute(\"INSERT INTO contacte(nomComplet, email, telephone) VALUES('Alpha Maiga', 'alpha@fakemail.com', '763887825')\")\n",
        "connection.commit()"
      ]
    },
    {
      "cell_type": "code",
      "execution_count": null,
      "metadata": {
        "id": "GKhavPK6zyfy"
      },
      "outputs": [],
      "source": [
        "cursor.execute(\"INSERT INTO contacte(nomComplet, email, telephone) VALUES('Awa DIOP', 'awa@fakemail.com', '763882835')\")\n",
        "connection.commit()"
      ]
    },
    {
      "cell_type": "markdown",
      "metadata": {
        "id": "BXk6RzO8zd4K"
      },
      "source": [
        "**f) Afficher le contenu**"
      ]
    },
    {
      "cell_type": "code",
      "execution_count": null,
      "metadata": {
        "id": "yv92WHsezexb"
      },
      "outputs": [],
      "source": [
        "rows = cursor.execute(\"SELECT * FROM contacte\").fetchall()\n",
        "print(rows)"
      ]
    },
    {
      "cell_type": "markdown",
      "metadata": {
        "id": "3ZlePD2I0Ra7"
      },
      "source": [
        "**g) Modifier un contact**"
      ]
    },
    {
      "cell_type": "code",
      "execution_count": null,
      "metadata": {
        "id": "N37XbgvI0ZED"
      },
      "outputs": [],
      "source": [
        "nouveau_numero = \"76332982\"\n",
        "ancien_numero = \"763887825\"\n",
        "cursor.execute(\n",
        "    \"UPDATE contacte SET telephone = ? WHERE telephone = ?\",\n",
        "    (nouveau_numero, ancien_numero)\n",
        ")\n",
        "connection.commit()"
      ]
    },
    {
      "cell_type": "code",
      "execution_count": null,
      "metadata": {
        "id": "p0SUYvIm0ra6"
      },
      "outputs": [],
      "source": [
        "rows = cursor.execute(\"SELECT * FROM contacte\").fetchall()\n",
        "print(rows)"
      ]
    },
    {
      "cell_type": "markdown",
      "metadata": {
        "id": "A76IaZ3u00zK"
      },
      "source": [
        "**h) Supprimer un contact**"
      ]
    },
    {
      "cell_type": "code",
      "execution_count": null,
      "metadata": {
        "id": "RihUFnK406Mn"
      },
      "outputs": [],
      "source": [
        "telephone = \"763882835\"\n",
        "cursor.execute(\n",
        "    \"DELETE FROM contacte WHERE telephone = ?\",\n",
        "    (telephone,)\n",
        ")\n",
        "\n",
        "connection.commit()"
      ]
    },
    {
      "cell_type": "code",
      "execution_count": null,
      "metadata": {
        "id": "RYuukGGn1L0J"
      },
      "outputs": [],
      "source": [
        "rows = cursor.execute(\"SELECT * FROM contacte\").fetchall()\n",
        "print(rows)"
      ]
    },
    {
      "cell_type": "markdown",
      "metadata": {
        "id": "SlAytxhI2NOz"
      },
      "source": [
        "**i) Créer un dataframe à partir d'une base de données**"
      ]
    },
    {
      "cell_type": "code",
      "execution_count": null,
      "metadata": {
        "id": "TQw_TqXF2NkR"
      },
      "outputs": [],
      "source": [
        "import pandas as pd\n",
        "req=\"\"\"SELECT * FROM contacte\"\"\"\n",
        "mysql_delays_df2 = pd.read_sql(req, con=connection)"
      ]
    },
    {
      "cell_type": "code",
      "execution_count": null,
      "metadata": {
        "id": "HN-JLrJi3CA6"
      },
      "outputs": [],
      "source": [
        "mysql_delays_df2.head()"
      ]
    },
    {
      "cell_type": "code",
      "execution_count": null,
      "metadata": {
        "id": "BG3Hk3B33aZp"
      },
      "outputs": [],
      "source": [
        "type(mysql_delays_df2)"
      ]
    },
    {
      "cell_type": "markdown",
      "metadata": {
        "id": "7bVavogLUdsn"
      },
      "source": [
        "**2) Spark**"
      ]
    },
    {
      "cell_type": "markdown",
      "metadata": {
        "id": "aLoPpjNqUwBI"
      },
      "source": [
        "**a) Qu'est-ce que Apache Spark ?**"
      ]
    },
    {
      "cell_type": "markdown",
      "metadata": {
        "id": "0s9wq6_GU90K"
      },
      "source": [
        "Avant d’aborder PySpark, il est important de comprendre ce qu’est Apache Spark. Il s’agit d’un framework open source écrit en Scala et conçu pour le traitement de larges ensembles de données de façon distribuée en cluster.\n",
        "\n",
        "Grâce à son système de traitement  » in-memory « , Spark est cent fois plus rapide. Cet outil s’est rapidement imposé comme un incontournable du Big Data."
      ]
    },
    {
      "cell_type": "markdown",
      "metadata": {
        "id": "ol-Ip05NVDmf"
      },
      "source": [
        "**b) Qu'est-ce que PySpark ?**\n",
        "\n",
        "PySpark est une API Python pour Apache Spark. Elle permet de traiter de larges ensembles de données dans un cluster distribué.\n",
        "Avec cet outil, il devient possible d’exécuter une application Python utilisant les fonctionnalités Apache Spark. Cette API a été développée pour répondre à l’adoption massive de Python par l’industrie, puisque Spark était à l’origine écrit en Scala.\n",
        "\n",
        "PySpark supporte la plupart des fonctionnalités de Spark telles que Spark SQL, DataFrame, Streaming, MLlib (Machine Learning) et Spark Core.\n",
        "\n",
        "![spark.png](data:image/png;base64,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)"
      ]
    },
    {
      "cell_type": "markdown",
      "metadata": {
        "id": "A6YPhVPHVW5D"
      },
      "source": [
        "**c) Qui utilise PySpark ?**\n",
        "\n",
        "PySpark est très utilisé dans les domaines de la Data Science et du Machine Learning. Pour cause, il existe de nombreuses bibliothèques de Data Science écrites en Python comme NumPy et TensorFlow.\n",
        "\n",
        "Plusieurs modules PySpark sont spécialement dédiés à la Data Science et au Machine Learning, dont RDD, DataFrame ou MLib. C’est une solution idéale pour l’analyse de données à grande échelle et pour le développement de pipelines de Machine Learning."
      ]
    },
    {
      "cell_type": "markdown",
      "metadata": {
        "id": "K3CGKhogB4rZ"
      },
      "source": [
        "**d) Carctéristiques pyspark**\n",
        "\n",
        "Pyspark est une alternative plus puissante que Pandas Python lorsqu’il s’agit du traitement de gros volume de données. Les principales caractéristiques qui font de Pyspark la librairie de traitement de données de Python la plus puissante sont les suivantes :\n",
        "\n",
        "\n",
        "\n",
        "*   Calcul en temps réel : PySpark permet le calcul en temps réel sur une grande quantité de données car il se concentre sur le traitement en mémoire. Il présente une faible latence.\n",
        "*   Support de plusieurs langages : la librairie PySpark est adapté à divers langages de programmation tels que Scala, Java, Python et R. Sa compatibilité en fait une librairie de choix pour le traitement d’énormes ensembles de données.\n",
        "*   Mise en cache et constance du disque : la librairie PySpark offre une mise en cache puissante et une bonne constance du disque.\n",
        "*   Traitement rapide : PySpark nous permet d’atteindre une grande vitesse de traitement des données, qui est environ 100 fois plus rapide en mémoire et 10 fois plus rapide sur le disque.\n",
        "*   Fonctionne bien avec les RDD : le langage de programmation Python est dynamiquement typé, ce qui facilite le travail avec les RDD. Nous en apprendrons davantage sur les RDD en utilisant Python dans la suite du tutoriel."
      ]
    },
    {
      "cell_type": "markdown",
      "metadata": {
        "id": "rqJ87YFqVkcr"
      },
      "source": [
        "**d) Intallation et création de session**"
      ]
    },
    {
      "cell_type": "code",
      "execution_count": null,
      "metadata": {
        "colab": {
          "base_uri": "https://localhost:8080/"
        },
        "id": "wee0ISyBRaNd",
        "outputId": "3ccef442-e5fe-40db-dfe1-3b1fb75fcb7d"
      },
      "outputs": [
        {
          "name": "stdout",
          "output_type": "stream",
          "text": [
            "Requirement already satisfied: pyspark in /usr/local/lib/python3.10/dist-packages (3.4.1)\n",
            "Requirement already satisfied: py4j==0.10.9.7 in /usr/local/lib/python3.10/dist-packages (from pyspark) (0.10.9.7)\n"
          ]
        }
      ],
      "source": [
        "!pip install pyspark"
      ]
    },
    {
      "cell_type": "code",
      "execution_count": null,
      "metadata": {
        "id": "x-0vdhiKRl8G"
      },
      "outputs": [],
      "source": [
        "from pyspark.sql import SparkSession\n",
        "from pyspark import SparkContext\n",
        "#sc.stop()\n",
        "sc = SparkContext()\n",
        "sc"
      ]
    },
    {
      "cell_type": "markdown",
      "metadata": {
        "id": "dJq4nyH4D8SL"
      },
      "source": [
        "**e) PySpark RDD:**\n",
        "\n",
        "Les RDDs sont la partie la plus essentielle de PySpark ou nous pouvons dire l’épine dorsale de PySpark. C’est l’une des structures de données fondamentales, qui peut traiter des données structurées et non structurées.\n",
        "\n",
        "Pour interagir avec PySpark, vous créez des structures de données spécialisées appelées Resilient Distributed Datasets (RDD).\n",
        "\n",
        "Vous pouvez créer des RDDs de plusieurs façons, mais l’une des plus courantes est la fonction PySpark parallelize().\n",
        "\n",
        "parallelize() peut transformer certaines structures de données Python comme les listes et les tuples en RDDs, ce qui vous donne une fonctionnalité qui les rend tolérants aux pannes et distribués."
      ]
    },
    {
      "cell_type": "code",
      "execution_count": null,
      "metadata": {
        "id": "8r8VcmdmQ063"
      },
      "outputs": [],
      "source": [
        "ma_liste = range(10000)\n",
        "rdd = sc.parallelize(ma_liste, 2)\n",
        "type(rdd.take(2))\n",
        "nombres_impairs = rdd.filter(lambda x: x % 2 != 0)\n",
        "nombres_impairs.take(5) #Permet de voir le contenu d'un RDD"
      ]
    },
    {
      "cell_type": "code",
      "execution_count": null,
      "metadata": {
        "id": "hWXl0V4ERBpn"
      },
      "outputs": [],
      "source": [
        "#fonction count\n",
        "nombres_impairs.count()"
      ]
    },
    {
      "cell_type": "markdown",
      "metadata": {
        "id": "9QsmUXz-dA_p"
      },
      "source": [
        "**Fonctions de transformation**\n",
        "\n",
        "\n",
        "*   map(func): applique une fonction à chacune des données\n",
        "*   filter(func): permet d’éliminer certaines données comme dans notre exemple rdd.filter(lambda x : x % 2 != 0) permet d’éliminer les nombres pairs\n",
        "*   flatMap(func): similaire à map, mais chaque élément d’entrée peut être mappé à 0 ou plusieurs éléments de sortie (donc, func devrait retourner une Seq plutôt qu’un seul élément)\n",
        "*   distinct(): supprime les doublons\n",
        "*   groupsByKey(): transforme des clés-valeurs (K,V) en (K,W) où W est un object itérable. Par exemple, (K,U) et (K,V) seront transformées en (K, [U,V])\n",
        "*   reduceByKey(func): applique une fonction de réduction aux valeurs de chaque clé. Comme on a pu le voir, la fonction de réduction est appelée avec deux arguments. Si ce genre de chose vous intéresse, sachez qu’il est attendu que la fonction de réduction soit commutative et associative, c’est-à-dire que func(a,b) = func(b,a) et func(func(a,b),c) = func(a, func(b,c)). Par exemple, la fonction func peut renvoyer le maximum entre deux valeur\n",
        "*   sortByKey: utilisée pour trier le résultat par clé\n",
        "*   join(rdd): permet de réaliser une jointure, ce qui a le même sens que dans les bases de données relationnelles.\n",
        "À noter qu’il existe également des fonctions OuterJoin et fullOuterJoin. Les jointures sont réalisées sur la clé\n",
        "\n",
        "**Fonctions d'action**\n",
        "\n",
        "\n",
        "*   reduce(func): agrège les éléments de l’ensemble de données en utilisant une fonction func (qui prend deux arguments et en renvoie un). La fonction doit être commutative et associative afin qu’elle puisse être calculée correctement en parallèle\n",
        "*   take(n):\tretourne un tableau avec les n premiers éléments du RDD\n",
        "*   collect():\tretourne toutes les données contenues dans le RDD sous la forme d’une liste\n",
        "*   count():\tretourne le nombre de données contenues dans le RDD\n",
        "\n",
        "\n",
        "\n"
      ]
    },
    {
      "cell_type": "markdown",
      "metadata": {
        "id": "sWYoLH2IezBs"
      },
      "source": [
        "**f) PySpark SQL**\n",
        "\n",
        "Spark introduit un module de programmation pour le traitement des données structurées appelé Spark SQL. Il fournit une abstraction de programmation appelée DataFrame, très similaire au RDD à la différence qu’il permet de stocker de manière distribuée les données structurées."
      ]
    },
    {
      "cell_type": "markdown",
      "metadata": {
        "id": "k9vf-nYjfDbf"
      },
      "source": [
        "**Les classes du module PySpark SQL**\n",
        "\n",
        "Voici les classes que nous pouvons voir dans le module PySpark SQL :\n",
        "\n",
        "\n",
        "*   pyspark.sql.SparkSession : Elle représente le point d’entrée principal pour les fonctionnalités DataFrame et SQL.\n",
        "\n",
        "*   pyspark.sql.DataFrame : Elle représente une collection distribuée de données regroupées dans des colonnes nommées.\n",
        "\n",
        "*   pyspark.sql.Column : Elle représente une expression de colonne dans un DataFrame.\n",
        "\n",
        "*   pyspark.sql.Row : Elle représente une ligne de données dans un DataFrame.\n",
        "\n",
        "*   pyspark.sql.GroupedData : Elle représente des méthodes d’agrégation, retournées par DataFrame.groupBy().\n",
        "\n",
        "*   pyspark.sql.DataFrameNaFunctions : Il s’agit de méthodes de traitement des données manquantes (valeurs nulles).\n",
        "\n",
        "*   pyspark.sql.DataFrameStatFunctions : Elle représente les méthodes pour la fonctionnalité de statistiques.\n",
        "\n",
        "*   pyspark.sql.functions : Elle représente une liste de fonctions intégrées disponibles pour DataFrame.\n",
        "\n",
        "*   pyspark.sql.types : Elle représente une liste de types de données disponibles.\n",
        "\n",
        "*   pyspark.sql.Window : Elle est utilisée pour travailler avec les fonctions Window."
      ]
    },
    {
      "cell_type": "code",
      "execution_count": null,
      "metadata": {
        "id": "EHPDdoSkfrpH"
      },
      "outputs": [],
      "source": [
        "#Créer un DataFrame PySpark à partir d’un RDD\n",
        "data = [(\"Java\", \"12\"), (\"Python\", \"17\"), (\"Scala\", \"18\")]\n",
        "columns = [\"language\",\"avg\"]\n",
        "spark = SparkSession.builder.appName('Formation_DS').getOrCreate()\n",
        "rdd = spark.sparkContext.parallelize(data) #création du RDD\n",
        "df = spark.createDataFrame(rdd).toDF(*columns)\n",
        "df.show()"
      ]
    },
    {
      "cell_type": "code",
      "execution_count": null,
      "metadata": {
        "id": "rRYBTPuCgrC6"
      },
      "outputs": [],
      "source": [
        "#Créer un DataFrame PySpark à partir d’un Schéma\n",
        "from pyspark.sql.types import StructType, StructField, StringType, IntegerType\n",
        "data2 = [(\"James\",\"\",\"Smith\",\"36636\",\"M\",3000),\n",
        "    (\"Michael\",\"Rose\",\"\",\"40288\",\"M\",4000),\n",
        "    (\"Robert\",\"\",\"Williams\",\"42114\",\"M\",7000),\n",
        "    (\"Maria\",\"Anne\",\"Jones\",\"39192\",\"F\",8000),\n",
        "    (\"Jen\",\"Mary\",\"Brown\",\"\",\"F\",10000)\n",
        "  ]\n",
        "\n",
        "schema = StructType([ \\\n",
        "    StructField(\"Prenom\",StringType(),True), \\\n",
        "    StructField(\"Deuxième nom\",StringType(),True), \\\n",
        "    StructField(\"Nom\",StringType(),True), \\\n",
        "    StructField(\"identifiant\", StringType(), True), \\\n",
        "    StructField(\"genre\", StringType(), True), \\\n",
        "    StructField(\"Salaire\", IntegerType(), True) \\\n",
        "  ])\n",
        "df = spark.createDataFrame(data=data2,schema=schema)\n",
        "df.printSchema()\n",
        "df.show(truncate=False)"
      ]
    },
    {
      "cell_type": "code",
      "execution_count": null,
      "metadata": {
        "id": "3GKvrImgg5Vp"
      },
      "outputs": [],
      "source": [
        "#Créer un DataFrame PySpark à partir d’un datasource csv\n",
        "from google.colab import files\n",
        "data_to_load = files.upload()\n",
        "df_fromcsv = spark.read.csv(\"cities_vf.csv\",sep = ';', header = True)\n",
        "df_fromcsv.show()"
      ]
    },
    {
      "cell_type": "code",
      "execution_count": null,
      "metadata": {
        "id": "tvV7RJq9iA3T"
      },
      "outputs": [],
      "source": [
        "#Fonctions show et select\n",
        "data = [(\"James\",\"Traore\",30,\"Segou\"),\n",
        "    (\"Rose\",\"Diarra\",25,\"Kayes\"),\n",
        "    (\"Aly\",\"Keita\",45,\"Bamako\"),\n",
        "    (\"Pierre\",\"Sissoko\",54,\"Gao\")\n",
        "  ]\n",
        "columns = [\"Prenom\",\"Nom\",\"age\",\"Pays\"]\n",
        "df = spark.createDataFrame(data = data, schema = columns)\n",
        "df.show(truncate=False)"
      ]
    },
    {
      "cell_type": "code",
      "execution_count": null,
      "metadata": {
        "id": "xSTg92yEi2mP"
      },
      "outputs": [],
      "source": [
        "#Deuxième manière de select\n",
        "df.select(\"Prenom\",\"Nom\").show()\n",
        "df.select(df.Prenom,df.Nom).show()\n",
        "df.select(df[\"Prenom\"],df[\"Nom\"]).show()\n",
        "\n",
        "#Troisième en utilisant col()\n",
        "from pyspark.sql.functions import col\n",
        "df.select(col(\"Prenom\"),col(\"Nom\")).show()\n",
        "\n",
        "#Dernière en utilisant le regex\n",
        "df.select(df.colRegex(\"`^.*nom*`\")).show()"
      ]
    },
    {
      "cell_type": "code",
      "execution_count": null,
      "metadata": {
        "id": "uTJF3BKgj7T9"
      },
      "outputs": [],
      "source": [
        "#Fonction Collect\n",
        "data = [(\"James\",\"Traore\",30,\"Bamako\"),\n",
        "    (\"Rose\",\"Diarra\",25,\"Kayes\"),\n",
        "    (\"Aly\",\"Keita\",45,\"Bamako\"),\n",
        "    (\"Pierre\",\"Sissoko\",54,\"Gao\")\n",
        "  ]\n",
        "columns = [\"Prenom\",\"Nom\",\"age\",\"Ville\"]\n",
        "df = spark.createDataFrame(data = data, schema = columns)\n",
        "df.collect()"
      ]
    },
    {
      "cell_type": "code",
      "execution_count": null,
      "metadata": {
        "id": "w41SnantkTI_"
      },
      "outputs": [],
      "source": [
        "#filter ou where\n",
        "df.filter(df.Ville == \"Bamako\").show(truncate=False)\n",
        "df.filter(\"Prenom == 'James'\").show()"
      ]
    },
    {
      "cell_type": "code",
      "execution_count": null,
      "metadata": {
        "id": "36YJR6pEk6Ep"
      },
      "outputs": [],
      "source": [
        "#Utilisation de & et ||\n",
        "df.filter( (df.Ville  == \"Bamako\") & (df.age> 40) ).show(truncate=False)"
      ]
    },
    {
      "cell_type": "code",
      "execution_count": null,
      "metadata": {
        "id": "A9phW4WzlHSA"
      },
      "outputs": [],
      "source": [
        "#Utilisation de startswith\n",
        "df.filter(df.Ville.startswith(\"K\")).show()"
      ]
    },
    {
      "cell_type": "code",
      "execution_count": null,
      "metadata": {
        "id": "-ztRqpkklQfg"
      },
      "outputs": [],
      "source": [
        "#Utilisation de contains\n",
        "df.filter(df.Prenom.contains(\"M\")).show()"
      ]
    },
    {
      "cell_type": "markdown",
      "metadata": {
        "id": "66R9sSWllZqv"
      },
      "source": [
        "Il existe aussi d'autres fonction:\n",
        "\n",
        "*   orderBy()\n",
        "*   sort()"
      ]
    },
    {
      "cell_type": "code",
      "execution_count": null,
      "metadata": {
        "id": "EZjzwlCBloxy"
      },
      "outputs": [],
      "source": [
        "#Opérateurs d'agregations\n",
        "from pyspark.sql.functions import avg, count\n",
        "data = [(\"Aly\", \"Ventes\", 3000),\n",
        "    (\"Mamadou\", \"Ventes\", 4600),\n",
        "    (\"Issa\", \"Ventes\", 4100),\n",
        "    (\"Mariam\", \"Finance\", 3000),\n",
        "    (\"Moussa\", \"Ventes\", 3000),\n",
        "    (\"William\", \"Finance\", 3300),\n",
        "    (\"Diouma\", \"Finance\", 3900),\n",
        "    (\"Fatoumata\", \"Marketing\", 3000),\n",
        "    (\"Nana\", \"Marketing\", 2000),\n",
        "    (\"Sekou\", \"Ventes\", 4100)\n",
        "  ]\n",
        "schema = [\"nom\", \"departement\", \"salaire\"]\n",
        "df = spark.createDataFrame(data=data, schema = schema)\n",
        "df.show(truncate=False)\n",
        "print(\"avg: \" + str(df.select(avg(\"salaire\")).collect()[0][0]))"
      ]
    },
    {
      "cell_type": "code",
      "execution_count": null,
      "metadata": {
        "id": "kt6QqH1AmUvy"
      },
      "outputs": [],
      "source": [
        "#utilisation de count\n",
        "print(\"count: \"+str(df.select(count(\"salaire\")).collect()[0]))"
      ]
    },
    {
      "cell_type": "code",
      "execution_count": null,
      "metadata": {
        "id": "wYjKYCLamfiZ"
      },
      "outputs": [],
      "source": [
        "#Utilisation de max\n",
        "from pyspark.sql.functions import max\n",
        "df.select(max(\"salaire\")).show(truncate=False)"
      ]
    },
    {
      "cell_type": "markdown",
      "metadata": {
        "id": "rQTQtVl1mrp0"
      },
      "source": [
        "**g) PySpark vs Pandas**\n",
        "\n",
        "Pandas et Spark DataFrame sont conçus pour le traitement des données structurelles et semi-structurelles. Les deux partagent certaines propriétés similaires (structure, fonctions). Les quelques différences entre Pandas et un PySpark DataFrame sont les suivantes :\n",
        "\n",
        "\n",
        "*   Les opérations sur un DataFrame Pyspark s’exécutent en parallèle sur différents nœuds du cluster mais, dans le cas de Pandas, ce n’est pas possible.\n",
        "*   Les opérations dans un DataFrame PySpark sont paresseuses par nature (lazy evaluation) mais, dans le cas de pandas, nous obtenons le résultat dès que nous appliquons une opération.\n",
        "*   Dans un DataFrame PySpark, nous ne pouvons pas modifier le DataFrame en raison de sa propriété immuable, nous devons le transformer. Mais dans Pandas, ce n’est pas le cas.\n",
        "*   Les opérations complexes sont plus faciles à réaliser dans Pandas que dans un DataFrame PySpark.\n",
        "*   Pyspark est plus adapté pour les données volumineuses que Pandas\n",
        "*   Spark est économe dans le traitement car le calcul est effectué en mémoire\n",
        "\n",
        "\n"
      ]
    },
    {
      "cell_type": "markdown",
      "metadata": {
        "id": "I9WSTab2UjfO"
      },
      "source": [
        "**III) Data Visualisation**"
      ]
    },
    {
      "cell_type": "markdown",
      "metadata": {
        "id": "tM74jK52UqpP"
      },
      "source": [
        "**1) Matplotlib**"
      ]
    },
    {
      "cell_type": "markdown",
      "metadata": {
        "id": "FZiTOjWoTbBz"
      },
      "source": [
        "Matplotlib est une bibliothèque de traçage pour le langage de programmation Python. Il permet de réaliser des graphiques de qualité en quelques lignes de code. La plupart des autres bibliothèques de traçage de Python sont construites sur Matplotlib. Cela signifie qu'une compréhension de base de matplotlib est probablement nécessaire pour créer n'importe quel graphique avec Python."
      ]
    },
    {
      "cell_type": "code",
      "execution_count": null,
      "metadata": {
        "id": "E7k7Lte2T6e6"
      },
      "outputs": [],
      "source": [
        "import numpy as np\n",
        "import pandas as pd\n",
        "import matplotlib.pyplot as plt"
      ]
    },
    {
      "cell_type": "code",
      "execution_count": null,
      "metadata": {
        "id": "30xYYCiPV21p"
      },
      "outputs": [],
      "source": [
        "iris=pd.read_csv('Iris.csv')\n",
        "diabetes=pd.read_csv('diabetes.csv')\n",
        "pokemon=pd.read_csv('Pokemon.csv')\n",
        "heart_failure=pd.read_csv('heart_failure_clinical_records_dataset.csv')"
      ]
    },
    {
      "cell_type": "code",
      "execution_count": null,
      "metadata": {
        "id": "Tyaow8_WWXPo"
      },
      "outputs": [],
      "source": [
        "#Scatter Plot/Nuage de points\n",
        "plt.plot(iris['PetalLengthCm'], iris['PetalWidthCm'], linestyle='none', marker='o', color='b')\n",
        "plt.show()"
      ]
    },
    {
      "cell_type": "code",
      "execution_count": null,
      "metadata": {
        "id": "qxKXsv2HWo7k"
      },
      "outputs": [],
      "source": [
        "#Line plot/Graphique linéaire\n",
        "x = np.linspace(0, 20, 1000)\n",
        "y = np.cos(x)\n",
        "\n",
        "plt.plot(x,y,color='b', linestyle='--')\n",
        "plt.show()"
      ]
    },
    {
      "cell_type": "code",
      "execution_count": null,
      "metadata": {
        "id": "pQU5tdsWXk-B"
      },
      "outputs": [],
      "source": [
        "#Histogramme\n",
        "plt.hist(heart_failure['age'])\n",
        "plt.xlabel('Age')\n",
        "plt.ylabel('Count')\n",
        "plt.title('Age distribution.')"
      ]
    },
    {
      "cell_type": "code",
      "execution_count": null,
      "metadata": {
        "id": "aSvyub06YJpr"
      },
      "outputs": [],
      "source": [
        "#Graphe de barres\n",
        "bar_data = pokemon['Type 1'].value_counts().reset_index()\n",
        "bar_data['err'] = pokemon['Type 1'].value_counts().std()\n",
        "\n",
        "plt.bar(bar_data['index'], bar_data['Type 1'])\n",
        "plt.xticks(rotation=90)\n",
        "plt.xlabel('Ability')\n",
        "plt.ylabel('Count')\n",
        "plt.title(\"Abilities of Pokemons\")"
      ]
    },
    {
      "cell_type": "code",
      "execution_count": null,
      "metadata": {
        "id": "FfnGaQqBYeEJ"
      },
      "outputs": [],
      "source": [
        "#Graphes horizontal\n",
        "plt.figure(figsize=(10,6))\n",
        "plt.barh(bar_data['index'], bar_data['Type 1'])\n",
        "plt.xlabel('Ability')\n",
        "plt.ylabel('Count')\n",
        "plt.title(\"Abilities of Pokemons\")"
      ]
    },
    {
      "cell_type": "code",
      "execution_count": null,
      "metadata": {
        "id": "CXYaXO05Yrmx"
      },
      "outputs": [],
      "source": [
        "#Boite à moustache\n",
        "plt.figure(figsize=(10,6))\n",
        "plt.boxplot(heart_failure['serum_sodium'])\n",
        "plt.ylabel('Value')\n",
        "plt.title(\"Simple Box Plot\")"
      ]
    },
    {
      "cell_type": "code",
      "execution_count": null,
      "metadata": {
        "id": "yegj1FDXZSZN"
      },
      "outputs": [],
      "source": [
        "#Multiple boite à moustache\n",
        "plt.figure(figsize=(10,6))\n",
        "plt.boxplot([diabetes['Age'], diabetes['BMI']])\n",
        "plt.ylabel('Value')\n",
        "plt.title(\"Box Plot\")"
      ]
    },
    {
      "cell_type": "code",
      "execution_count": null,
      "metadata": {
        "id": "G97MolbEZqDR"
      },
      "outputs": [],
      "source": [
        "#Graphe sucette\n",
        "temp = heart_failure.sort_values('sex', ascending= False)[['serum_sodium','sex']]\n",
        "plt.stem(temp['serum_sodium'][:10], temp['sex'][:10])\n",
        "plt.xticks(rotation=90)\n",
        "plt.show()"
      ]
    },
    {
      "cell_type": "markdown",
      "metadata": {
        "id": "LIM66kBcTLor"
      },
      "source": [
        "**2) Seaborn**"
      ]
    },
    {
      "cell_type": "markdown",
      "metadata": {
        "id": "Et-vCzJKa5Vq"
      },
      "source": [
        "Seaborn est une bibliothèque graphique construite sur Matplotlib. Il permet de rendre vos graphiques plus jolis et facilite certains des besoins courants en matière de visualisation de données. Qu'est-ce que Seaborn a de si spécial ? Pourquoi devons-nous utiliser seaborn alors que nous avons déjà Maplotlib ? Matplotlib peut servir votre objectif. Il dispose de toute la visualisation dont vous avez besoin pour réaliser un projet de narration de données. Mais seaborn est spécial car il se décline en de nombreux styles. Le style est déjà intégré. Comparée à une intrigue matplotlib ordinaire, une intrigue marine ordinaire est beaucoup plus jolie !"
      ]
    },
    {
      "cell_type": "code",
      "execution_count": null,
      "metadata": {
        "id": "9xyqctz9dL8-"
      },
      "outputs": [],
      "source": [
        "import numpy as np\n",
        "import pandas as pd\n",
        "\n",
        "import matplotlib.pyplot as plt\n",
        "import seaborn as sns"
      ]
    },
    {
      "cell_type": "code",
      "execution_count": 17,
      "metadata": {
        "id": "Yq6JIk7ydSTR"
      },
      "outputs": [],
      "source": [
        "olympic = pd.read_csv('athlete_events.csv')\n",
        "iris=pd.read_csv('Iris.csv')\n",
        "shootings=pd.read_csv('shootings.csv')"
      ]
    },
    {
      "cell_type": "code",
      "execution_count": null,
      "metadata": {
        "id": "NnaGYXcefxv0"
      },
      "outputs": [],
      "source": [
        "#Nuage de points\n",
        "sns.scatterplot(x='SepalLengthCm', y='SepalWidthCm', data=iris)\n",
        "plt.title('Sepal Length vs. Sepal Width')"
      ]
    },
    {
      "cell_type": "code",
      "execution_count": null,
      "metadata": {
        "id": "BIDF5X4UgIzQ"
      },
      "outputs": [],
      "source": [
        "#Nuage de points categorisés\n",
        "sns.scatterplot(x='SepalLengthCm', y='SepalWidthCm', hue='Species', data=iris)\n",
        "plt.title('Sepal Length vs. Sepal Width')"
      ]
    },
    {
      "cell_type": "code",
      "execution_count": null,
      "metadata": {
        "id": "Cd9b3nm5gPVp"
      },
      "outputs": [],
      "source": [
        "#Ajout de marqueur\n",
        "sns.scatterplot(x='SepalLengthCm', y='SepalWidthCm', hue='Species', data=iris, marker='+')\n",
        "plt.title('Sepal Length vs. Sepal Width')"
      ]
    },
    {
      "cell_type": "code",
      "execution_count": null,
      "metadata": {
        "id": "4VlbSl-MghBa"
      },
      "outputs": [],
      "source": [
        "#Utilisation de palette de couleur, set\n",
        "sns.scatterplot(x='Age', y='Height', hue='Sex', data=olympic, palette='Blues')\n",
        "plt.title('Age vs. Height')"
      ]
    },
    {
      "cell_type": "code",
      "execution_count": null,
      "metadata": {
        "id": "cA3RvVLzgw9K"
      },
      "outputs": [],
      "source": [
        "#Histogramme\n",
        "f, ax = plt.subplots(figsize=(7, 5))\n",
        "sns.despine(f)\n",
        "sns.distplot(olympic['Age'])"
      ]
    },
    {
      "cell_type": "code",
      "source": [
        "#Graphe de densité\n",
        "f, ax = plt.subplots(figsize=(7, 5))\n",
        "sns.despine(f)\n",
        "sns.kdeplot(iris['PetalLengthCm'])"
      ],
      "metadata": {
        "id": "VI6Je6-lo9ex"
      },
      "execution_count": null,
      "outputs": []
    },
    {
      "cell_type": "code",
      "source": [
        "#Graphe de densité avec remplissage\n",
        "f, ax = plt.subplots(figsize=(7, 5))\n",
        "sns.despine(f)\n",
        "sns.kdeplot(iris['PetalLengthCm'], shade=True)"
      ],
      "metadata": {
        "id": "8eYWsnHapPFp"
      },
      "execution_count": null,
      "outputs": []
    },
    {
      "cell_type": "code",
      "source": [
        "f, ax = plt.subplots(figsize=(7, 5))\n",
        "sns.despine(f)\n",
        "sns.kdeplot(iris['PetalWidthCm'], shade=True)\n",
        "sns.kdeplot(iris['PetalLengthCm'], shade=True)\n",
        "plt.show()"
      ],
      "metadata": {
        "id": "dfp98wb8pWyx"
      },
      "execution_count": null,
      "outputs": []
    },
    {
      "cell_type": "code",
      "source": [
        "#Diagramme à barres\n",
        "f, ax = plt.subplots(figsize=(7, 5))\n",
        "sns.despine(f)\n",
        "sns.barplot(x='Species', y='SepalLengthCm', data=iris, palette='magma')"
      ],
      "metadata": {
        "id": "Yr5yoyAOpmIw"
      },
      "execution_count": null,
      "outputs": []
    },
    {
      "cell_type": "code",
      "source": [
        "#Diagramme à barres horizontal\n",
        "f, ax = plt.subplots(figsize=(7, 5))\n",
        "sns.despine(f)\n",
        "sns.barplot(x='SepalLengthCm', y='Species', data=iris, palette='magma', orient='h')"
      ],
      "metadata": {
        "id": "mhxfDM0ZqPuq"
      },
      "execution_count": null,
      "outputs": []
    },
    {
      "cell_type": "code",
      "source": [
        "#Heatmap\n",
        "sns.heatmap(iris.drop(['Id'], axis=1).corr())"
      ],
      "metadata": {
        "id": "XHEs4eTxqbwz"
      },
      "execution_count": null,
      "outputs": []
    },
    {
      "cell_type": "code",
      "source": [
        "#Graphe Violon\n",
        "sns.violinplot(y=shootings['age'])"
      ],
      "metadata": {
        "id": "9HyMALbiqkw0"
      },
      "execution_count": null,
      "outputs": []
    },
    {
      "cell_type": "code",
      "source": [
        "#Definition de thème 'dark' 'whitegrid'\n",
        "sns.set_style(\"darkgrid\")\n",
        "sns.scatterplot(x='SepalLengthCm', y='SepalWidthCm', data=iris)\n",
        "plt.title(\"Seaborn Dark Grid Theme\")"
      ],
      "metadata": {
        "id": "XYCkvSK_rQf6"
      },
      "execution_count": null,
      "outputs": []
    }
  ],
  "metadata": {
    "colab": {
      "provenance": []
    },
    "kernelspec": {
      "display_name": "Python 3",
      "name": "python3"
    },
    "language_info": {
      "name": "python"
    }
  },
  "nbformat": 4,
  "nbformat_minor": 0
}