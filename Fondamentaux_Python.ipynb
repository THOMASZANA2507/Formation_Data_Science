{
  "nbformat": 4,
  "nbformat_minor": 0,
  "metadata": {
    "colab": {
      "provenance": []
    },
    "kernelspec": {
      "name": "python3",
      "display_name": "Python 3"
    },
    "language_info": {
      "name": "python"
    }
  },
  "cells": [
    {
      "cell_type": "markdown",
      "source": [
        "**Bienvenu dans ce cours sur les fondamentaux de Python**"
      ],
      "metadata": {
        "id": "QPI4VOIosl_P"
      }
    },
    {
      "cell_type": "markdown",
      "source": [
        "**Programmes:**\n",
        "\n",
        "1.   Introduction\n",
        "2.   Variables et types de données\n",
        "1.   Structures de contrôle\n",
        "2.   Fonctions\n",
        "1.   Modules Standards\n",
        "2.   Conclusion\n",
        "\n",
        "\n",
        "\n",
        "\n",
        "\n",
        "\n",
        "\n",
        "\n"
      ],
      "metadata": {
        "id": "B1ir5i3Qsztg"
      }
    },
    {
      "cell_type": "markdown",
      "source": [
        "**Introduction:**\n",
        "\n",
        "Python est un langage de programmation créé par Guido Van Rossum. La première version publique du langage est sortie en 1991.\n",
        "\n",
        "![Guido van rossum.jfif](data:image/jpeg;base64,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)"
      ],
      "metadata": {
        "id": "W-mHxO6gwgpn"
      }
    },
    {
      "cell_type": "markdown",
      "source": [
        "Caractéristiques de Python:\n",
        "\n",
        "\n",
        "\n",
        "*   Un langage interprété\n",
        "*   un langage extensible et polyvalent\n",
        "*   Un langage à typage dynamique\n",
        "*   Un langage facile à utiliser\n",
        "*   Un langage orienté objet\n",
        "\n",
        "\n",
        "\n",
        "\n",
        "\n",
        "\n",
        "\n"
      ],
      "metadata": {
        "id": "61jegLZgxTk3"
      }
    },
    {
      "cell_type": "markdown",
      "source": [
        "**Variables et types de données**"
      ],
      "metadata": {
        "id": "it3Zz1QaysDA"
      }
    },
    {
      "cell_type": "markdown",
      "source": [
        "Qu'est ce qu'une variable?\n",
        "\n",
        "Une variable, dans le domaine de la programmation informatique, est un conteneur qui sert à stocker une valeur. Les variables possèdent deux caractéristiques fondamentales :\n",
        "\n",
        "\n",
        "*   Les variables ont une durée de vie limitée (une variable ne vit généralement que le temps de l’exécution d’un script ou de la fonction qui l’a définie), ce qui signifie qu’on ne va pas pouvoir utiliser les variables pour stocker des données de manière pérenne ;\n",
        "*   La valeur d’une variable peut varier : les variables peuvent peuvent stocker différentes valeurs au cours de leur vie (la nouvelle valeur remplaçant l’ancienne).\n",
        "\n",
        "\n"
      ],
      "metadata": {
        "id": "S0MMIJQWzCFj"
      }
    },
    {
      "cell_type": "code",
      "execution_count": 1,
      "metadata": {
        "colab": {
          "base_uri": "https://localhost:8080/"
        },
        "id": "fiA2yOMZslGR",
        "outputId": "1b48d9df-e747-47d0-8f24-6dc58d461fd1"
      },
      "outputs": [
        {
          "output_type": "stream",
          "name": "stdout",
          "text": [
            "Pierre\n",
            "29\n"
          ]
        }
      ],
      "source": [
        "prenom='Pierre'\n",
        "Age=29\n",
        "print(prenom)\n",
        "print(Age)"
      ]
    },
    {
      "cell_type": "code",
      "source": [
        "Age=Age+1\n",
        "Age"
      ],
      "metadata": {
        "colab": {
          "base_uri": "https://localhost:8080/"
        },
        "id": "fXF-8DFO0Y7H",
        "outputId": "b95770be-7570-4e35-8b51-0ac3d0769bf1"
      },
      "execution_count": 2,
      "outputs": [
        {
          "output_type": "execute_result",
          "data": {
            "text/plain": [
              "30"
            ]
          },
          "metadata": {},
          "execution_count": 2
        }
      ]
    },
    {
      "cell_type": "code",
      "source": [
        "#Types de données int, float, double, string, booleen\n",
        "7+11"
      ],
      "metadata": {
        "colab": {
          "base_uri": "https://localhost:8080/"
        },
        "id": "BsarMn1eFgZ1",
        "outputId": "f1b56084-77d9-446b-c6c9-3aa81b80efec"
      },
      "execution_count": 3,
      "outputs": [
        {
          "output_type": "execute_result",
          "data": {
            "text/plain": [
              "18"
            ]
          },
          "metadata": {},
          "execution_count": 3
        }
      ]
    },
    {
      "cell_type": "code",
      "source": [
        "100//2"
      ],
      "metadata": {
        "colab": {
          "base_uri": "https://localhost:8080/"
        },
        "id": "z5ELur7DF7R2",
        "outputId": "8144fb00-91ef-48c5-b9d2-5022900cdc37"
      },
      "execution_count": 4,
      "outputs": [
        {
          "output_type": "execute_result",
          "data": {
            "text/plain": [
              "50"
            ]
          },
          "metadata": {},
          "execution_count": 4
        }
      ]
    },
    {
      "cell_type": "code",
      "source": [
        "3.4+5.7"
      ],
      "metadata": {
        "colab": {
          "base_uri": "https://localhost:8080/"
        },
        "id": "BJyBCTCUF_WF",
        "outputId": "18f46865-1cc4-4fd8-a1ae-5ecacf8e37a7"
      },
      "execution_count": 5,
      "outputs": [
        {
          "output_type": "execute_result",
          "data": {
            "text/plain": [
              "9.1"
            ]
          },
          "metadata": {},
          "execution_count": 5
        }
      ]
    },
    {
      "cell_type": "code",
      "source": [
        "prenom='Moussa'\n",
        "prenom"
      ],
      "metadata": {
        "colab": {
          "base_uri": "https://localhost:8080/",
          "height": 35
        },
        "id": "V6gYQMidGpro",
        "outputId": "ed4895ca-bce1-49e3-f305-9ecdf7665409"
      },
      "execution_count": 6,
      "outputs": [
        {
          "output_type": "execute_result",
          "data": {
            "text/plain": [
              "'Moussa'"
            ],
            "application/vnd.google.colaboratory.intrinsic+json": {
              "type": "string"
            }
          },
          "metadata": {},
          "execution_count": 6
        }
      ]
    },
    {
      "cell_type": "code",
      "source": [
        "a=True\n",
        "a"
      ],
      "metadata": {
        "colab": {
          "base_uri": "https://localhost:8080/"
        },
        "id": "zm88EcSOG6yG",
        "outputId": "468706a1-3a1a-46a1-a818-e12cca56720a"
      },
      "execution_count": 7,
      "outputs": [
        {
          "output_type": "execute_result",
          "data": {
            "text/plain": [
              "True"
            ]
          },
          "metadata": {},
          "execution_count": 7
        }
      ]
    },
    {
      "cell_type": "code",
      "source": [
        "type(a)"
      ],
      "metadata": {
        "colab": {
          "base_uri": "https://localhost:8080/"
        },
        "id": "unqEqciNGMRW",
        "outputId": "acd06e60-8779-43db-986c-10b8af98aad5"
      },
      "execution_count": 8,
      "outputs": [
        {
          "output_type": "execute_result",
          "data": {
            "text/plain": [
              "bool"
            ]
          },
          "metadata": {},
          "execution_count": 8
        }
      ]
    },
    {
      "cell_type": "code",
      "source": [
        "type(prenom)"
      ],
      "metadata": {
        "colab": {
          "base_uri": "https://localhost:8080/"
        },
        "id": "A4Sa07YSbqxW",
        "outputId": "fef7cfad-3a3f-4c17-e1aa-b7d1ab09945d"
      },
      "execution_count": 9,
      "outputs": [
        {
          "output_type": "execute_result",
          "data": {
            "text/plain": [
              "str"
            ]
          },
          "metadata": {},
          "execution_count": 9
        }
      ]
    },
    {
      "cell_type": "markdown",
      "source": [
        "**Opérateurs Python**"
      ],
      "metadata": {
        "id": "bVuZTffZHkm_"
      }
    },
    {
      "cell_type": "markdown",
      "source": [
        "Un opérateur est un signe ou un symbole qui va nous permettre de réaliser une opération. Le signe = par exemple est en Python l’opérateur d’affectation simple : il permet d’affecter une valeur à une variable.\n",
        "\n",
        "Python dispose de nombreux opérateurs qui peuvent être classés selon les catégories suivantes :\n",
        "\n",
        "\n",
        "*   Les opérateurs arithmétiques ;\n",
        "*   Les opérateurs d’affectation ou d’assignation ;\n",
        "*   Les opérateurs de chaines ;\n",
        "*   Les opérateurs de comparaison ;\n",
        "*   Les opérateurs logiques ;\n",
        "*   Les opérateurs d’identité ;\n",
        "*   Les opérateurs d’appartenance ;\n",
        "*   Les opérateurs binaires.\n",
        "\n"
      ],
      "metadata": {
        "id": "-vyqUAIxHu1S"
      }
    },
    {
      "cell_type": "code",
      "source": [
        "#Opérateurs arithmétiques\n",
        "a=2\n",
        "b=3\n",
        "a+b"
      ],
      "metadata": {
        "colab": {
          "base_uri": "https://localhost:8080/"
        },
        "id": "uDrzU23zIALu",
        "outputId": "5db711da-57f7-4d78-8c26-5433423af4f3"
      },
      "execution_count": 10,
      "outputs": [
        {
          "output_type": "execute_result",
          "data": {
            "text/plain": [
              "5"
            ]
          },
          "metadata": {},
          "execution_count": 10
        }
      ]
    },
    {
      "cell_type": "code",
      "source": [
        "a*b"
      ],
      "metadata": {
        "colab": {
          "base_uri": "https://localhost:8080/"
        },
        "id": "1dh8gz4ZIWQA",
        "outputId": "4c4fbcf7-5586-4ace-82be-15c9db2154da"
      },
      "execution_count": 11,
      "outputs": [
        {
          "output_type": "execute_result",
          "data": {
            "text/plain": [
              "6"
            ]
          },
          "metadata": {},
          "execution_count": 11
        }
      ]
    },
    {
      "cell_type": "code",
      "source": [
        "a/b"
      ],
      "metadata": {
        "colab": {
          "base_uri": "https://localhost:8080/"
        },
        "id": "8jIX5MMxIf_L",
        "outputId": "0fe4493d-0d9e-4968-f3c4-f74d2d52d260"
      },
      "execution_count": 12,
      "outputs": [
        {
          "output_type": "execute_result",
          "data": {
            "text/plain": [
              "0.6666666666666666"
            ]
          },
          "metadata": {},
          "execution_count": 12
        }
      ]
    },
    {
      "cell_type": "code",
      "source": [
        "#Division entière\n",
        "b//a"
      ],
      "metadata": {
        "colab": {
          "base_uri": "https://localhost:8080/"
        },
        "id": "GoZ1gzGEIftb",
        "outputId": "662e92eb-6113-459d-ea79-6b7e3b21c0de"
      },
      "execution_count": 13,
      "outputs": [
        {
          "output_type": "execute_result",
          "data": {
            "text/plain": [
              "1"
            ]
          },
          "metadata": {},
          "execution_count": 13
        }
      ]
    },
    {
      "cell_type": "code",
      "source": [
        "#Modulo\n",
        "b%a"
      ],
      "metadata": {
        "colab": {
          "base_uri": "https://localhost:8080/"
        },
        "id": "YTNRxArtIsb_",
        "outputId": "21e4ac9c-6062-4e45-dbfc-b8a81eb4c824"
      },
      "execution_count": 14,
      "outputs": [
        {
          "output_type": "execute_result",
          "data": {
            "text/plain": [
              "1"
            ]
          },
          "metadata": {},
          "execution_count": 14
        }
      ]
    },
    {
      "cell_type": "code",
      "source": [
        "#Puissance\n",
        "a**b"
      ],
      "metadata": {
        "colab": {
          "base_uri": "https://localhost:8080/"
        },
        "id": "S4QWlcvdIsP-",
        "outputId": "6e0f762e-e586-4c68-ff98-47268f4477cf"
      },
      "execution_count": 15,
      "outputs": [
        {
          "output_type": "execute_result",
          "data": {
            "text/plain": [
              "8"
            ]
          },
          "metadata": {},
          "execution_count": 15
        }
      ]
    },
    {
      "cell_type": "code",
      "source": [
        "#Opérateurs de chaines\n",
        "4*'Moussa'"
      ],
      "metadata": {
        "colab": {
          "base_uri": "https://localhost:8080/",
          "height": 35
        },
        "id": "H59SOio_JAFm",
        "outputId": "63b28d48-8241-4237-bbe8-54d83727d330"
      },
      "execution_count": 16,
      "outputs": [
        {
          "output_type": "execute_result",
          "data": {
            "text/plain": [
              "'MoussaMoussaMoussaMoussa'"
            ],
            "application/vnd.google.colaboratory.intrinsic+json": {
              "type": "string"
            }
          },
          "metadata": {},
          "execution_count": 16
        }
      ]
    },
    {
      "cell_type": "code",
      "source": [
        "4*('Moussa'+' ')"
      ],
      "metadata": {
        "colab": {
          "base_uri": "https://localhost:8080/",
          "height": 35
        },
        "id": "-uR4YBn3JKwu",
        "outputId": "cdae5ce7-88b1-48a3-900a-346c4e3872d4"
      },
      "execution_count": 17,
      "outputs": [
        {
          "output_type": "execute_result",
          "data": {
            "text/plain": [
              "'Moussa Moussa Moussa Moussa '"
            ],
            "application/vnd.google.colaboratory.intrinsic+json": {
              "type": "string"
            }
          },
          "metadata": {},
          "execution_count": 17
        }
      ]
    },
    {
      "cell_type": "code",
      "source": [
        "#Opérateurs d'affectations\n",
        "x=1\n",
        "x=x+1\n",
        "x"
      ],
      "metadata": {
        "colab": {
          "base_uri": "https://localhost:8080/"
        },
        "id": "FO2rPO8IJbrA",
        "outputId": "a9562c9b-441d-4533-d1d1-5f9654fa2c64"
      },
      "execution_count": 18,
      "outputs": [
        {
          "output_type": "execute_result",
          "data": {
            "text/plain": [
              "2"
            ]
          },
          "metadata": {},
          "execution_count": 18
        }
      ]
    },
    {
      "cell_type": "code",
      "source": [
        "x+=1\n",
        "x"
      ],
      "metadata": {
        "colab": {
          "base_uri": "https://localhost:8080/"
        },
        "id": "nfY32Qu1Jqlf",
        "outputId": "e8dbee55-8df6-40a4-a991-55f46fe36afa"
      },
      "execution_count": 19,
      "outputs": [
        {
          "output_type": "execute_result",
          "data": {
            "text/plain": [
              "3"
            ]
          },
          "metadata": {},
          "execution_count": 19
        }
      ]
    },
    {
      "cell_type": "code",
      "source": [
        "x*=2\n",
        "x"
      ],
      "metadata": {
        "colab": {
          "base_uri": "https://localhost:8080/"
        },
        "id": "lxqz7XJ1J3fG",
        "outputId": "de8c1850-8746-4205-91e3-7d1e6a7eb697"
      },
      "execution_count": 20,
      "outputs": [
        {
          "output_type": "execute_result",
          "data": {
            "text/plain": [
              "6"
            ]
          },
          "metadata": {},
          "execution_count": 20
        }
      ]
    },
    {
      "cell_type": "markdown",
      "source": [
        "**Liste**\n",
        "\n",
        "Une liste est en effet par définition composée d’une suite de valeur ou d’éléments."
      ],
      "metadata": {
        "id": "V5mZrqAPKDQP"
      }
    },
    {
      "cell_type": "code",
      "source": [
        "liste_vide = []\n",
        "ma_liste = [10, 20, 30, 40]\n",
        "liste_depareillee = [None, 1, \"shrubbery\", True]"
      ],
      "metadata": {
        "id": "2PP9YfIeKv6-"
      },
      "execution_count": 21,
      "outputs": []
    },
    {
      "cell_type": "code",
      "source": [
        "premier_element = ma_liste[0]\n",
        "second_element = ma_liste[1]\n",
        "print(premier_element, '\\n',second_element)"
      ],
      "metadata": {
        "id": "0NqahqiIKvi1",
        "colab": {
          "base_uri": "https://localhost:8080/"
        },
        "outputId": "1e579a75-b4f6-4a9c-c21e-ff40da1fc2eb"
      },
      "execution_count": 25,
      "outputs": [
        {
          "output_type": "stream",
          "name": "stdout",
          "text": [
            "10 \n",
            " 20\n"
          ]
        }
      ]
    },
    {
      "cell_type": "code",
      "source": [
        "dernier_element = ma_liste[-1]\n",
        "dernier_element"
      ],
      "metadata": {
        "id": "5CwIPw5HK1nW",
        "colab": {
          "base_uri": "https://localhost:8080/"
        },
        "outputId": "78db904d-b18c-40f0-9530-27882e0eaec6"
      },
      "execution_count": 26,
      "outputs": [
        {
          "output_type": "execute_result",
          "data": {
            "text/plain": [
              "40"
            ]
          },
          "metadata": {},
          "execution_count": 26
        }
      ]
    },
    {
      "cell_type": "code",
      "source": [
        "ma_liste[0] = 0\n",
        "print(ma_liste)"
      ],
      "metadata": {
        "colab": {
          "base_uri": "https://localhost:8080/"
        },
        "id": "CU9IdJB1B4HE",
        "outputId": "97d013f2-34af-452d-f0d4-79f780ffcf1d"
      },
      "execution_count": 27,
      "outputs": [
        {
          "output_type": "stream",
          "name": "stdout",
          "text": [
            "[0, 20, 30, 40]\n"
          ]
        }
      ]
    },
    {
      "cell_type": "code",
      "source": [
        "taille_liste = len(ma_liste)\n",
        "print(taille_liste)\n",
        "del ma_liste[1]\n",
        "print(ma_liste)\n",
        "print(len(ma_liste))"
      ],
      "metadata": {
        "colab": {
          "base_uri": "https://localhost:8080/"
        },
        "id": "0CeOSsR1B8Aj",
        "outputId": "8e796780-256a-4707-e3e3-7395c29336c1"
      },
      "execution_count": 28,
      "outputs": [
        {
          "output_type": "stream",
          "name": "stdout",
          "text": [
            "4\n",
            "[0, 30, 40]\n",
            "3\n"
          ]
        }
      ]
    },
    {
      "cell_type": "code",
      "source": [
        "ma_liste = [0, 1, 2] + [10, 20, 30]\n",
        "print(ma_liste)"
      ],
      "metadata": {
        "colab": {
          "base_uri": "https://localhost:8080/"
        },
        "id": "iuWnU40CCDHj",
        "outputId": "73f238cf-13f4-445d-e433-797953767500"
      },
      "execution_count": 29,
      "outputs": [
        {
          "output_type": "stream",
          "name": "stdout",
          "text": [
            "[0, 1, 2, 10, 20, 30]\n"
          ]
        }
      ]
    },
    {
      "cell_type": "code",
      "source": [
        "#Savoir si un élément est present dans une liste\n",
        "2 in ma_liste"
      ],
      "metadata": {
        "colab": {
          "base_uri": "https://localhost:8080/"
        },
        "id": "bqsQk3jTCJxC",
        "outputId": "896e1ab9-087b-4178-c4b2-5d092b767069"
      },
      "execution_count": 30,
      "outputs": [
        {
          "output_type": "execute_result",
          "data": {
            "text/plain": [
              "True"
            ]
          },
          "metadata": {},
          "execution_count": 30
        }
      ]
    },
    {
      "cell_type": "code",
      "source": [
        "#min et max d'une liste\n",
        "element_min = min(ma_liste)\n",
        "print(element_min)\n",
        "element_max = max(ma_liste)\n",
        "print(element_max)"
      ],
      "metadata": {
        "colab": {
          "base_uri": "https://localhost:8080/"
        },
        "id": "OLNxPQc6GP66",
        "outputId": "e9bf00ea-ac22-456b-b63b-90170c0737b4"
      },
      "execution_count": 31,
      "outputs": [
        {
          "output_type": "stream",
          "name": "stdout",
          "text": [
            "0\n",
            "30\n"
          ]
        }
      ]
    },
    {
      "cell_type": "code",
      "source": [
        "#Autres fonctions sur les listes\n",
        "ma_liste = [1]\n",
        "ma_liste.append(2)\n",
        "ma_liste.append(3)\n",
        "print(ma_liste)"
      ],
      "metadata": {
        "colab": {
          "base_uri": "https://localhost:8080/"
        },
        "id": "GRQoPMHDGerC",
        "outputId": "351f57c9-b43a-4ab6-cec1-f3c3ee7d9c53"
      },
      "execution_count": 32,
      "outputs": [
        {
          "output_type": "stream",
          "name": "stdout",
          "text": [
            "[1, 2, 3]\n"
          ]
        }
      ]
    },
    {
      "cell_type": "code",
      "source": [
        "ma_liste = [1]\n",
        "ma_liste.extend([2, 3, 4])\n",
        "print(ma_liste)"
      ],
      "metadata": {
        "colab": {
          "base_uri": "https://localhost:8080/"
        },
        "id": "UaJDy0w-G9S_",
        "outputId": "1b096f4e-bc07-4ca3-a57d-5955b42686d7"
      },
      "execution_count": 33,
      "outputs": [
        {
          "output_type": "stream",
          "name": "stdout",
          "text": [
            "[1, 2, 3, 4]\n"
          ]
        }
      ]
    },
    {
      "cell_type": "code",
      "source": [
        "ma_liste = ['a', 'c', 'd']\n",
        "ma_liste.insert(1, 'b')\n",
        "print(ma_liste)"
      ],
      "metadata": {
        "colab": {
          "base_uri": "https://localhost:8080/"
        },
        "id": "x5aD1PERHAfe",
        "outputId": "16c00aa3-86ef-4c4c-e797-56f0f0d696ff"
      },
      "execution_count": 34,
      "outputs": [
        {
          "output_type": "stream",
          "name": "stdout",
          "text": [
            "['a', 'b', 'c', 'd']\n"
          ]
        }
      ]
    },
    {
      "cell_type": "code",
      "source": [
        "ma_liste = ['a', 'b', 'c', 'd']\n",
        "ma_liste.remove('b')\n",
        "print(ma_liste)"
      ],
      "metadata": {
        "colab": {
          "base_uri": "https://localhost:8080/"
        },
        "id": "gqYn_cTdHBRO",
        "outputId": "1f46b728-d580-4a7a-f3be-b800b76691f4"
      },
      "execution_count": 35,
      "outputs": [
        {
          "output_type": "stream",
          "name": "stdout",
          "text": [
            "['a', 'c', 'd']\n"
          ]
        }
      ]
    },
    {
      "cell_type": "markdown",
      "source": [
        "En plus de ces fonctions, nous avons des fonctions comme:\n",
        "\n",
        "\n",
        "*   clear\n",
        "*   sort\n",
        "*   count\n",
        "*   reverse\n",
        "\n",
        "\n",
        "\n",
        "\n"
      ],
      "metadata": {
        "id": "u1kto1pSHGy0"
      }
    },
    {
      "cell_type": "markdown",
      "source": [
        "**Tuples**\n",
        "\n",
        "Les tuples en Python (« n-uplets » en français) sont des collections de données différentes ou identiques qui sont désignées par un index et qui ne peuvent pas être modifiées (on dit qu’elles sont « non mutables »)."
      ],
      "metadata": {
        "id": "cblgAtotKC7Z"
      }
    },
    {
      "cell_type": "code",
      "source": [
        "tuple_vide = ()\n",
        "mon_tuple = (10, 20, 30, 40)\n",
        "tuple_depareille = (None, 1, \"shrubbery\", True)"
      ],
      "metadata": {
        "id": "snBemCzjKxLm"
      },
      "execution_count": 36,
      "outputs": []
    },
    {
      "cell_type": "code",
      "source": [
        "#Acceder aux éléments\n",
        "mon_tuple = (10, 20, 30, 40)\n",
        "premier_element = mon_tuple[0]\n",
        "second_element = mon_tuple[1]"
      ],
      "metadata": {
        "id": "7jWZ8MUmKxAV"
      },
      "execution_count": 37,
      "outputs": []
    },
    {
      "cell_type": "code",
      "source": [
        "#Opérations sur les tables\n",
        "taille_tuple = len(mon_tuple)\n",
        "print(taille_tuple)"
      ],
      "metadata": {
        "id": "nFJBsulgK1HF",
        "colab": {
          "base_uri": "https://localhost:8080/"
        },
        "outputId": "10e7cfed-3bdd-41a8-8cf0-82ed02ccde6f"
      },
      "execution_count": 38,
      "outputs": [
        {
          "output_type": "stream",
          "name": "stdout",
          "text": [
            "4\n"
          ]
        }
      ]
    },
    {
      "cell_type": "code",
      "source": [
        "mon_tuple = (0, 1, 2) + (10, 20, 30)\n",
        "print(mon_tuple)"
      ],
      "metadata": {
        "colab": {
          "base_uri": "https://localhost:8080/"
        },
        "id": "BJJtji1rH8QU",
        "outputId": "f1a70a3f-6f24-4f60-85df-d9fd31f0b4f1"
      },
      "execution_count": 39,
      "outputs": [
        {
          "output_type": "stream",
          "name": "stdout",
          "text": [
            "(0, 1, 2, 10, 20, 30)\n"
          ]
        }
      ]
    },
    {
      "cell_type": "code",
      "source": [
        "#Decoupage d'un tuple\n",
        "mon_tuple = (10, 20, 30, 40)\n",
        "autre_tuple = mon_tuple[1:3]\n",
        "print(autre_tuple)"
      ],
      "metadata": {
        "colab": {
          "base_uri": "https://localhost:8080/"
        },
        "id": "9NkBmM43IDf6",
        "outputId": "6f477661-70f4-4e43-fd5d-ef5e25abc8af"
      },
      "execution_count": 40,
      "outputs": [
        {
          "output_type": "stream",
          "name": "stdout",
          "text": [
            "(20, 30)\n"
          ]
        }
      ]
    },
    {
      "cell_type": "code",
      "source": [
        "mon_tuple = (10, 20, 30, 40)\n",
        "derniers_elements = mon_tuple[-3:3]\n",
        "print(derniers_elements)"
      ],
      "metadata": {
        "colab": {
          "base_uri": "https://localhost:8080/"
        },
        "id": "PlL1MIYiITJy",
        "outputId": "9ecae8f0-c9fe-4cc7-fafa-8dcf608b1e7c"
      },
      "execution_count": 41,
      "outputs": [
        {
          "output_type": "stream",
          "name": "stdout",
          "text": [
            "(20, 30)\n"
          ]
        }
      ]
    },
    {
      "cell_type": "code",
      "source": [
        "#Occurence\n",
        "mon_tuple = (\"John\", \"Eric\", \"Michael\", \"John\", \"Eric\", \"John\")\n",
        "occurrence = mon_tuple.count(\"John\")\n",
        "print(occurrence)"
      ],
      "metadata": {
        "colab": {
          "base_uri": "https://localhost:8080/"
        },
        "id": "zRAGVVNzIaCC",
        "outputId": "9c3eb71f-fe71-4ac8-f3be-e1ff87c10d75"
      },
      "execution_count": 42,
      "outputs": [
        {
          "output_type": "stream",
          "name": "stdout",
          "text": [
            "3\n"
          ]
        }
      ]
    },
    {
      "cell_type": "code",
      "source": [
        "#Liste et Tuple\n",
        "mon_tuple = (1, 2, 3)\n",
        "ma_liste = list(mon_tuple)\n",
        "print(ma_liste)\n",
        "\n",
        "# on inverse l'ordre des éléments de la liste\n",
        "ma_liste.reverse()\n",
        "\n",
        "mon_tuple = tuple(ma_liste)\n",
        "print(mon_tuple)"
      ],
      "metadata": {
        "colab": {
          "base_uri": "https://localhost:8080/"
        },
        "id": "3joUr4c0Iq4l",
        "outputId": "7ba5e022-57e2-4e15-f7b4-f5bd725f8442"
      },
      "execution_count": 43,
      "outputs": [
        {
          "output_type": "stream",
          "name": "stdout",
          "text": [
            "[1, 2, 3]\n",
            "(3, 2, 1)\n"
          ]
        }
      ]
    },
    {
      "cell_type": "markdown",
      "source": [
        "**Dictionnaire**\n",
        "\n",
        "Un dictionnaire (dictionnary ou, en abrégé en Python, dict) est une collection qui associe une clé à une valeur."
      ],
      "metadata": {
        "id": "q4igUCNIKgTt"
      }
    },
    {
      "cell_type": "code",
      "source": [
        "mon_dict = {\"nom\": \"Gayerie\", \"prenom\": \"David\"}\n",
        "nom = mon_dict[\"nom\"]\n",
        "prenom = mon_dict[\"prenom\"]\n",
        "print(prenom,'\\t',nom)"
      ],
      "metadata": {
        "id": "HRQvpgdsKyJ1",
        "colab": {
          "base_uri": "https://localhost:8080/"
        },
        "outputId": "d4b699aa-f3af-414b-ab46-4dfeb0a40669"
      },
      "execution_count": 44,
      "outputs": [
        {
          "output_type": "stream",
          "name": "stdout",
          "text": [
            "David \t Gayerie\n"
          ]
        }
      ]
    },
    {
      "cell_type": "code",
      "source": [
        "#Changement d'un élément\n",
        "mon_dict = {\"nom\": \"Gayerie\", \"prenom\": \"Eric\"}\n",
        "mon_dict[\"prenom\"] = \"David\"\n",
        "mon_dict[\"surnom\"] = \"Spoonless\"\n",
        "print(mon_dict)"
      ],
      "metadata": {
        "id": "XVVTBpIUKyAe",
        "colab": {
          "base_uri": "https://localhost:8080/"
        },
        "outputId": "84b72963-ac8f-4981-bb80-34300ad3b674"
      },
      "execution_count": 45,
      "outputs": [
        {
          "output_type": "stream",
          "name": "stdout",
          "text": [
            "{'nom': 'Gayerie', 'prenom': 'David', 'surnom': 'Spoonless'}\n"
          ]
        }
      ]
    },
    {
      "cell_type": "code",
      "source": [
        "#Opérations sur les dictionnaires\n",
        "mon_dict = {\"nom\": \"Gayerie\", \"prenom\": \"Eric\"}\n",
        "taille_dict = len(mon_dict)\n",
        "print(taille_dict)"
      ],
      "metadata": {
        "id": "qCmlQYkMK0sG",
        "colab": {
          "base_uri": "https://localhost:8080/"
        },
        "outputId": "3236efe1-1e14-4b25-e52f-aa5862dd1c35"
      },
      "execution_count": 46,
      "outputs": [
        {
          "output_type": "stream",
          "name": "stdout",
          "text": [
            "2\n"
          ]
        }
      ]
    },
    {
      "cell_type": "code",
      "source": [
        "del mon_dict[\"prenom\"]\n",
        "print(mon_dict)"
      ],
      "metadata": {
        "colab": {
          "base_uri": "https://localhost:8080/"
        },
        "id": "EOlaNzsBJZ-0",
        "outputId": "78f520c5-f6eb-4f85-e363-c8bbc7c1c3df"
      },
      "execution_count": 47,
      "outputs": [
        {
          "output_type": "stream",
          "name": "stdout",
          "text": [
            "{'nom': 'Gayerie'}\n"
          ]
        }
      ]
    },
    {
      "cell_type": "code",
      "source": [
        "mon_dict = {\"nom\": \"Gayerie\", \"prenom\": \"David\"}\n",
        "\"nom\" in mon_dict"
      ],
      "metadata": {
        "colab": {
          "base_uri": "https://localhost:8080/"
        },
        "id": "oixLA3ClJixq",
        "outputId": "ebb09503-d8cb-4c86-d2d4-39a84c7ed80a"
      },
      "execution_count": 48,
      "outputs": [
        {
          "output_type": "execute_result",
          "data": {
            "text/plain": [
              "True"
            ]
          },
          "metadata": {},
          "execution_count": 48
        }
      ]
    },
    {
      "cell_type": "code",
      "source": [
        "dict1 = {\"nom\": \"Gayerie\", \"prenom\": \"Eric\"}\n",
        "dict2 = {\"nom\": \"Gayerie\", \"prenom\": \"David\"}\n",
        "dict1 == dict2"
      ],
      "metadata": {
        "colab": {
          "base_uri": "https://localhost:8080/"
        },
        "id": "aHPcacMDJlrt",
        "outputId": "9d6da76b-42dc-46fd-920e-913bf3c69025"
      },
      "execution_count": 49,
      "outputs": [
        {
          "output_type": "execute_result",
          "data": {
            "text/plain": [
              "False"
            ]
          },
          "metadata": {},
          "execution_count": 49
        }
      ]
    },
    {
      "cell_type": "code",
      "source": [
        "#Quelques méthodes sur les dictionnaires\n",
        "dict = {\"nom\": \"Gayerie\", \"prenom\": \"David\"}\n",
        "print(dict.get(\"surnom\"))"
      ],
      "metadata": {
        "colab": {
          "base_uri": "https://localhost:8080/"
        },
        "id": "6AvzF4TWJo57",
        "outputId": "3100079e-033a-4af5-c564-f28697265aad"
      },
      "execution_count": 50,
      "outputs": [
        {
          "output_type": "stream",
          "name": "stdout",
          "text": [
            "None\n"
          ]
        }
      ]
    },
    {
      "cell_type": "code",
      "source": [
        "vue_dict = dict.items();\n",
        "print(vue_dict)"
      ],
      "metadata": {
        "colab": {
          "base_uri": "https://localhost:8080/"
        },
        "id": "zu3tZHAPKLSp",
        "outputId": "e66d96e1-cf38-4ba3-8205-293fc67222cd"
      },
      "execution_count": 51,
      "outputs": [
        {
          "output_type": "stream",
          "name": "stdout",
          "text": [
            "dict_items([('nom', 'Gayerie'), ('prenom', 'David')])\n"
          ]
        }
      ]
    },
    {
      "cell_type": "markdown",
      "source": [
        "Il existe d'autres fonctions comme:\n",
        "\n",
        "\n",
        "*   clear\n",
        "*   keys\n",
        "*   values\n",
        "*   copy\n",
        "\n",
        "\n",
        "\n"
      ],
      "metadata": {
        "id": "Bc-qebXSKQ4W"
      }
    },
    {
      "cell_type": "code",
      "source": [
        "#Parcourir un dictionnaire\n",
        "civilite = {'M': 'Monsieur', 'Mme': 'Madame', 'Mlle': 'Mademoiselle'}\n",
        "# On parcourt les clés du dictionnaire\n",
        "for k in civilite.keys():\n",
        "    print(k)\n",
        "\n",
        "# Par défaut, on parcourt les clés du dictionnaire\n",
        "for k in civilite:\n",
        "    print(k)"
      ],
      "metadata": {
        "colab": {
          "base_uri": "https://localhost:8080/"
        },
        "id": "mrYU-rfpKoIb",
        "outputId": "ab309c21-18c4-4ea5-fd71-8df170f97f34"
      },
      "execution_count": 52,
      "outputs": [
        {
          "output_type": "stream",
          "name": "stdout",
          "text": [
            "M\n",
            "Mme\n",
            "Mlle\n",
            "M\n",
            "Mme\n",
            "Mlle\n"
          ]
        }
      ]
    },
    {
      "cell_type": "code",
      "source": [
        "# On parcourt les valeurs du dictionnaire\n",
        "for v in civilite.values():\n",
        "    print(v)\n",
        "\n",
        "# On parcourt les clés et les valeurs du dictionnaire\n",
        "for k, v in civilite.items():\n",
        "    print(k, v)"
      ],
      "metadata": {
        "colab": {
          "base_uri": "https://localhost:8080/"
        },
        "id": "BwBaQ9PeK0Ur",
        "outputId": "63c89fd9-ffe5-45fe-df3a-76b779bf271a"
      },
      "execution_count": 53,
      "outputs": [
        {
          "output_type": "stream",
          "name": "stdout",
          "text": [
            "Monsieur\n",
            "Madame\n",
            "Mademoiselle\n",
            "M Monsieur\n",
            "Mme Madame\n",
            "Mlle Mademoiselle\n"
          ]
        }
      ]
    },
    {
      "cell_type": "markdown",
      "source": [
        "**Set**\n",
        "\n",
        "Un set est un groupement non ordonné d’éléments uniques."
      ],
      "metadata": {
        "id": "NBh1xV24KgCt"
      }
    },
    {
      "cell_type": "code",
      "source": [
        "mon_ensemble = {10, 20, 30, 40}\n",
        "ensemble_depareillee = {None, 1, \"shrubbery\", True}"
      ],
      "metadata": {
        "id": "bYLPlqO3Ky6O"
      },
      "execution_count": 54,
      "outputs": []
    },
    {
      "cell_type": "code",
      "source": [
        "mon_ensemble = {1, 2, 2, 3, 3, 3, 4, 4, 4, 4}\n",
        "print(mon_ensemble)"
      ],
      "metadata": {
        "id": "Ig7KI6AAKyyn",
        "colab": {
          "base_uri": "https://localhost:8080/"
        },
        "outputId": "82a77884-05c1-4920-9325-b8258ee7b333"
      },
      "execution_count": 55,
      "outputs": [
        {
          "output_type": "stream",
          "name": "stdout",
          "text": [
            "{1, 2, 3, 4}\n"
          ]
        }
      ]
    },
    {
      "cell_type": "code",
      "source": [
        "v = set()"
      ],
      "metadata": {
        "id": "oN0DNXqHK0H-"
      },
      "execution_count": 56,
      "outputs": []
    },
    {
      "cell_type": "code",
      "source": [
        "#Opérations sur les set\n",
        "mon_ensemble = {10, 20, 30, 40}\n",
        "taille_ensemble = len(mon_ensemble)\n",
        "print(taille_ensemble)"
      ],
      "metadata": {
        "colab": {
          "base_uri": "https://localhost:8080/"
        },
        "id": "qIJgTWE4LPAA",
        "outputId": "5b883153-52c7-41fd-d59c-d671dc0a3888"
      },
      "execution_count": 57,
      "outputs": [
        {
          "output_type": "stream",
          "name": "stdout",
          "text": [
            "4\n"
          ]
        }
      ]
    },
    {
      "cell_type": "code",
      "source": [
        "element = max(mon_ensemble)\n",
        "print(element)"
      ],
      "metadata": {
        "colab": {
          "base_uri": "https://localhost:8080/"
        },
        "id": "d8bbcyVnLc-b",
        "outputId": "23d1f744-d841-4c86-bee1-d2f53b3618fa"
      },
      "execution_count": 58,
      "outputs": [
        {
          "output_type": "stream",
          "name": "stdout",
          "text": [
            "40\n"
          ]
        }
      ]
    },
    {
      "cell_type": "code",
      "source": [
        "mon_ensemble = {\"a\", \"b\", \"c\"}\n",
        "element = min(mon_ensemble)\n",
        "print(element)"
      ],
      "metadata": {
        "colab": {
          "base_uri": "https://localhost:8080/"
        },
        "id": "EyXNAPIgLTGi",
        "outputId": "5a873182-9d96-404b-b790-ed8e34129f6d"
      },
      "execution_count": 59,
      "outputs": [
        {
          "output_type": "stream",
          "name": "stdout",
          "text": [
            "a\n"
          ]
        }
      ]
    },
    {
      "cell_type": "code",
      "source": [
        "#Méthodes sur les sets\n",
        "mon_ensemble = {10, 20, 30}\n",
        "nouvel_ensemble = mon_ensemble.copy()\n",
        "print(nouvel_ensemble)"
      ],
      "metadata": {
        "colab": {
          "base_uri": "https://localhost:8080/"
        },
        "id": "guNQzRnCLuU5",
        "outputId": "83909142-5148-4fe6-d45b-9db42b7baeff"
      },
      "execution_count": 60,
      "outputs": [
        {
          "output_type": "stream",
          "name": "stdout",
          "text": [
            "{10, 20, 30}\n"
          ]
        }
      ]
    },
    {
      "cell_type": "code",
      "source": [
        "mon_ensemble = {10, 20, 30}\n",
        "mon_ensemble.add(40)\n",
        "print(mon_ensemble)"
      ],
      "metadata": {
        "colab": {
          "base_uri": "https://localhost:8080/"
        },
        "id": "GvuDeVB9L3Z1",
        "outputId": "420010aa-a458-43aa-f0da-ac18652504a5"
      },
      "execution_count": 61,
      "outputs": [
        {
          "output_type": "stream",
          "name": "stdout",
          "text": [
            "{40, 10, 20, 30}\n"
          ]
        }
      ]
    },
    {
      "cell_type": "code",
      "source": [
        "mon_ensemble.clear()\n",
        "print(mon_ensemble)"
      ],
      "metadata": {
        "colab": {
          "base_uri": "https://localhost:8080/"
        },
        "id": "s8AVoadhL57k",
        "outputId": "56da2077-0fda-4b92-8b47-3553bb839d60"
      },
      "execution_count": 62,
      "outputs": [
        {
          "output_type": "stream",
          "name": "stdout",
          "text": [
            "set()\n"
          ]
        }
      ]
    },
    {
      "cell_type": "markdown",
      "source": [
        "Il existe d'autres fonctions comme:\n",
        "\n",
        "\n",
        "\n",
        "*   remove\n",
        "*   union\n",
        "*   intersection\n",
        "*   difference\n",
        "\n",
        "\n",
        "\n"
      ],
      "metadata": {
        "id": "X2uy_85dL-3i"
      }
    },
    {
      "cell_type": "code",
      "source": [
        "#Lien set, liste et tuple\n",
        "ma_liste = [1, 1, 2, 2]\n",
        "mon_ensemble = set(ma_liste)\n",
        "mon_tuple = tuple(mon_ensemble)"
      ],
      "metadata": {
        "id": "QQeLHAlJMgc5"
      },
      "execution_count": 63,
      "outputs": []
    },
    {
      "cell_type": "code",
      "source": [
        "mon_tuple"
      ],
      "metadata": {
        "colab": {
          "base_uri": "https://localhost:8080/"
        },
        "id": "fZuIU7atiM1v",
        "outputId": "3689fdb8-a6ca-4d86-db15-7e94cc9a0163"
      },
      "execution_count": 64,
      "outputs": [
        {
          "output_type": "execute_result",
          "data": {
            "text/plain": [
              "(1, 2)"
            ]
          },
          "metadata": {},
          "execution_count": 64
        }
      ]
    },
    {
      "cell_type": "markdown",
      "source": [
        "**Structures de contrôle**\n",
        "\n"
      ],
      "metadata": {
        "id": "OeJLl2umK35D"
      }
    },
    {
      "cell_type": "markdown",
      "source": [
        "Les structures de contrôle permettent de créer des embranchements dans le flot d’exécution d’un programme. Python, comme la plupart des langages de programmation impératifs, prévoit des instructions pour représenter des décisions et des itérations."
      ],
      "metadata": {
        "id": "jy3vJMysLYTf"
      }
    },
    {
      "cell_type": "code",
      "source": [
        "#instruction if\n",
        "if 'b' in 'bonjour':\n",
        "    print (\"La lettre b est présente dans le mot bonjour\")\n",
        "\n",
        "if 'z' not in 'bonjour':\n",
        "    print (\"La lettre z n'est pas présente dans le mot bonjour\")"
      ],
      "metadata": {
        "id": "kUlB0CV5LZwA",
        "colab": {
          "base_uri": "https://localhost:8080/"
        },
        "outputId": "69b61c8e-563a-45db-fff0-993d13507051"
      },
      "execution_count": 65,
      "outputs": [
        {
          "output_type": "stream",
          "name": "stdout",
          "text": [
            "La lettre b est présente dans le mot bonjour\n",
            "La lettre z n'est pas présente dans le mot bonjour\n"
          ]
        }
      ]
    },
    {
      "cell_type": "code",
      "source": [
        "#instruction else\n",
        "a = 2\n",
        "if a % 2:\n",
        "    print(a, \"est un nombre impair\")\n",
        "else:\n",
        "    print(a, \"est un nombre pair\")"
      ],
      "metadata": {
        "id": "-qK3gZoMLa4X",
        "colab": {
          "base_uri": "https://localhost:8080/"
        },
        "outputId": "36e89b5c-b5b5-47a5-c2bc-6fb3889ae253"
      },
      "execution_count": 66,
      "outputs": [
        {
          "output_type": "stream",
          "name": "stdout",
          "text": [
            "2 est un nombre pair\n"
          ]
        }
      ]
    },
    {
      "cell_type": "code",
      "source": [
        "#instruction elif\n",
        "note=15\n",
        "if note < 10: print(\"insuffisant\")\n",
        "elif note <= 12: print(\"passable\")\n",
        "elif note <= 14: print(\"assez bien\")\n",
        "elif note <= 16: print(\"bien\")\n",
        "else: print(\"trés bien\")"
      ],
      "metadata": {
        "id": "E2KOYUfULaa1",
        "colab": {
          "base_uri": "https://localhost:8080/"
        },
        "outputId": "f0b9d8a7-fd80-4697-dd91-cd5d5689e777"
      },
      "execution_count": 67,
      "outputs": [
        {
          "output_type": "stream",
          "name": "stdout",
          "text": [
            "bien\n"
          ]
        }
      ]
    },
    {
      "cell_type": "code",
      "source": [
        "#instruction while\n",
        "reponse = None\n",
        "while reponse != \"oui\":\n",
        "    reponse = input(\"Voulez-vous arrêter ? (oui/non) \")"
      ],
      "metadata": {
        "colab": {
          "base_uri": "https://localhost:8080/"
        },
        "id": "HG-F7buJOfdL",
        "outputId": "f74b15d5-6089-4aee-a30c-ac681bee67b7"
      },
      "execution_count": 68,
      "outputs": [
        {
          "name": "stdout",
          "output_type": "stream",
          "text": [
            "Voulez-vous arrêter ? (oui/non) non\n",
            "Voulez-vous arrêter ? (oui/non) non\n",
            "Voulez-vous arrêter ? (oui/non) oui\n"
          ]
        }
      ]
    },
    {
      "cell_type": "code",
      "source": [
        "#instruction for\n",
        "ma_liste = [\"premier\", \"deuxième\", \"troisième\"]\n",
        "for element in ma_liste:\n",
        "    print(element)"
      ],
      "metadata": {
        "colab": {
          "base_uri": "https://localhost:8080/"
        },
        "id": "i7ZgxD8mOgDa",
        "outputId": "b7124b59-1296-424d-86a4-c9b2cdebe20b"
      },
      "execution_count": 69,
      "outputs": [
        {
          "output_type": "stream",
          "name": "stdout",
          "text": [
            "premier\n",
            "deuxième\n",
            "troisième\n"
          ]
        }
      ]
    },
    {
      "cell_type": "code",
      "source": [
        "message = \"Hello\"\n",
        "for l in message:\n",
        "    print(\"caractère : \", l)"
      ],
      "metadata": {
        "colab": {
          "base_uri": "https://localhost:8080/"
        },
        "id": "M1TNR6VzO6na",
        "outputId": "37b1335b-7f2a-424b-99ea-255e1252dfa2"
      },
      "execution_count": 70,
      "outputs": [
        {
          "output_type": "stream",
          "name": "stdout",
          "text": [
            "caractère :  H\n",
            "caractère :  e\n",
            "caractère :  l\n",
            "caractère :  l\n",
            "caractère :  o\n"
          ]
        }
      ]
    },
    {
      "cell_type": "code",
      "source": [
        "#Fonction range\n",
        "for i in range(5):\n",
        "    print(i)"
      ],
      "metadata": {
        "colab": {
          "base_uri": "https://localhost:8080/"
        },
        "id": "3P0rIjZSO90R",
        "outputId": "7166e9ac-bb1e-4d40-bd2c-5d53b7f9e964"
      },
      "execution_count": 71,
      "outputs": [
        {
          "output_type": "stream",
          "name": "stdout",
          "text": [
            "0\n",
            "1\n",
            "2\n",
            "3\n",
            "4\n"
          ]
        }
      ]
    },
    {
      "cell_type": "code",
      "source": [
        "for i in range(3, 5):\n",
        "    print(i)"
      ],
      "metadata": {
        "colab": {
          "base_uri": "https://localhost:8080/"
        },
        "id": "g4bk-LL1PCas",
        "outputId": "543b2309-1137-4cba-ca67-667ab43832a5"
      },
      "execution_count": 72,
      "outputs": [
        {
          "output_type": "stream",
          "name": "stdout",
          "text": [
            "3\n",
            "4\n"
          ]
        }
      ]
    },
    {
      "cell_type": "code",
      "source": [
        "for i in range(1, 20, 2):\n",
        "    print(i)"
      ],
      "metadata": {
        "colab": {
          "base_uri": "https://localhost:8080/"
        },
        "id": "Q5Rd7Q6GPHCR",
        "outputId": "617df6b6-5eca-4c83-f5dc-9335c9ba07ad"
      },
      "execution_count": 73,
      "outputs": [
        {
          "output_type": "stream",
          "name": "stdout",
          "text": [
            "1\n",
            "3\n",
            "5\n",
            "7\n",
            "9\n",
            "11\n",
            "13\n",
            "15\n",
            "17\n",
            "19\n"
          ]
        }
      ]
    },
    {
      "cell_type": "markdown",
      "source": [
        "**Fonctions**"
      ],
      "metadata": {
        "id": "j17BClOILDez"
      }
    },
    {
      "cell_type": "markdown",
      "source": [
        "Une fonction permet d’identifier une séquence de traitements par un nom. Une fonction peut alors être appelée par son nom à plusieurs endroits dans un programme pour réaliser ces traitements.\n",
        "\n",
        "Il existe beaucoup de fonctions déjà fournies avec l’environnement d’exécution Python. On les appelle les builtin-functions.\n",
        "\n"
      ],
      "metadata": {
        "id": "Db8-_hhsLc69"
      }
    },
    {
      "cell_type": "code",
      "source": [
        "print(\"Alors, la data science c'est cool?\")"
      ],
      "metadata": {
        "id": "apc2h3FsLdbV",
        "colab": {
          "base_uri": "https://localhost:8080/"
        },
        "outputId": "8b1ca3a6-2345-41ca-8e7d-8148a7c6777c"
      },
      "execution_count": 74,
      "outputs": [
        {
          "output_type": "stream",
          "name": "stdout",
          "text": [
            "Alors, la data science c'est cool?\n"
          ]
        }
      ]
    },
    {
      "cell_type": "code",
      "source": [
        "#Fonctions de consolde\n",
        "exit()"
      ],
      "metadata": {
        "id": "kELuMFEALd_u"
      },
      "execution_count": 75,
      "outputs": []
    },
    {
      "cell_type": "code",
      "source": [
        "quit()"
      ],
      "metadata": {
        "id": "wuhuZDIpLebG"
      },
      "execution_count": 1,
      "outputs": []
    },
    {
      "cell_type": "code",
      "source": [
        "#Affichage des informations\n",
        "repr(print)"
      ],
      "metadata": {
        "colab": {
          "base_uri": "https://localhost:8080/",
          "height": 35
        },
        "id": "BHKHX4Mq-GdH",
        "outputId": "e68299f0-6a1f-4b88-bd90-cbc6b686e971"
      },
      "execution_count": 1,
      "outputs": [
        {
          "output_type": "execute_result",
          "data": {
            "text/plain": [
              "'<built-in function print>'"
            ],
            "application/vnd.google.colaboratory.intrinsic+json": {
              "type": "string"
            }
          },
          "metadata": {},
          "execution_count": 1
        }
      ]
    },
    {
      "cell_type": "code",
      "source": [
        "#Affichage de la documentation\n",
        "help(print)"
      ],
      "metadata": {
        "colab": {
          "base_uri": "https://localhost:8080/"
        },
        "id": "tCaBXxQK-GRG",
        "outputId": "cbaf91d4-8445-4eed-bc2e-8f23b3860659"
      },
      "execution_count": 2,
      "outputs": [
        {
          "output_type": "stream",
          "name": "stdout",
          "text": [
            "Help on built-in function print in module builtins:\n",
            "\n",
            "print(...)\n",
            "    print(value, ..., sep=' ', end='\\n', file=sys.stdout, flush=False)\n",
            "    \n",
            "    Prints the values to a stream, or to sys.stdout by default.\n",
            "    Optional keyword arguments:\n",
            "    file:  a file-like object (stream); defaults to the current sys.stdout.\n",
            "    sep:   string inserted between values, default a space.\n",
            "    end:   string appended after the last value, default a newline.\n",
            "    flush: whether to forcibly flush the stream.\n",
            "\n"
          ]
        }
      ]
    },
    {
      "cell_type": "markdown",
      "source": [
        "Les fonctions int(), float(), bool() et str() permettent de réaliser des conversions d’un type à l’autre."
      ],
      "metadata": {
        "id": "fX8HzGm_-X9k"
      }
    },
    {
      "cell_type": "code",
      "source": [
        "r = 3.5\n",
        "a=int(r)\n",
        "a"
      ],
      "metadata": {
        "colab": {
          "base_uri": "https://localhost:8080/"
        },
        "id": "hJDm_Iry-PR-",
        "outputId": "0549c69e-73a6-4dfe-bba4-5a0f6a43cff4"
      },
      "execution_count": 5,
      "outputs": [
        {
          "output_type": "execute_result",
          "data": {
            "text/plain": [
              "3"
            ]
          },
          "metadata": {},
          "execution_count": 5
        }
      ]
    },
    {
      "cell_type": "code",
      "source": [
        "n = 2\n",
        "float(n)"
      ],
      "metadata": {
        "colab": {
          "base_uri": "https://localhost:8080/"
        },
        "id": "jwZpTCTW-pDE",
        "outputId": "5513c0c7-a4ee-4cea-85d4-12acdc7d7f2d"
      },
      "execution_count": 4,
      "outputs": [
        {
          "output_type": "execute_result",
          "data": {
            "text/plain": [
              "2.0"
            ]
          },
          "metadata": {},
          "execution_count": 4
        }
      ]
    },
    {
      "cell_type": "code",
      "source": [
        "type(int(\"3\"))"
      ],
      "metadata": {
        "colab": {
          "base_uri": "https://localhost:8080/"
        },
        "id": "mAAs74AQ-toa",
        "outputId": "73e232b3-7805-4a38-9c2d-5efb8c3987b1"
      },
      "execution_count": 7,
      "outputs": [
        {
          "output_type": "execute_result",
          "data": {
            "text/plain": [
              "int"
            ]
          },
          "metadata": {},
          "execution_count": 7
        }
      ]
    },
    {
      "cell_type": "code",
      "source": [
        "float(\"5.25\")"
      ],
      "metadata": {
        "colab": {
          "base_uri": "https://localhost:8080/"
        },
        "id": "GdHhmuQo-uYE",
        "outputId": "8f660494-b07b-4ec4-ab05-8b719288260e"
      },
      "execution_count": 8,
      "outputs": [
        {
          "output_type": "execute_result",
          "data": {
            "text/plain": [
              "5.25"
            ]
          },
          "metadata": {},
          "execution_count": 8
        }
      ]
    },
    {
      "cell_type": "code",
      "source": [
        "bool(42)"
      ],
      "metadata": {
        "colab": {
          "base_uri": "https://localhost:8080/"
        },
        "id": "i7Oo4V8k-8-q",
        "outputId": "b4473922-ccaa-40ac-a9da-2a1c2c92cb79"
      },
      "execution_count": 9,
      "outputs": [
        {
          "output_type": "execute_result",
          "data": {
            "text/plain": [
              "True"
            ]
          },
          "metadata": {},
          "execution_count": 9
        }
      ]
    },
    {
      "cell_type": "code",
      "source": [
        "bool(0)"
      ],
      "metadata": {
        "colab": {
          "base_uri": "https://localhost:8080/"
        },
        "id": "B9KtA3zz--Fz",
        "outputId": "3149a717-996d-41de-8fda-80b01332390b"
      },
      "execution_count": 10,
      "outputs": [
        {
          "output_type": "execute_result",
          "data": {
            "text/plain": [
              "False"
            ]
          },
          "metadata": {},
          "execution_count": 10
        }
      ]
    },
    {
      "cell_type": "code",
      "source": [
        "bool(\"hello\")"
      ],
      "metadata": {
        "colab": {
          "base_uri": "https://localhost:8080/"
        },
        "id": "RXhsK2R4_Ar9",
        "outputId": "8866f805-3e59-4fba-b215-6cdb827e4fc7"
      },
      "execution_count": 11,
      "outputs": [
        {
          "output_type": "execute_result",
          "data": {
            "text/plain": [
              "True"
            ]
          },
          "metadata": {},
          "execution_count": 11
        }
      ]
    },
    {
      "cell_type": "code",
      "source": [
        "bool(\"\")"
      ],
      "metadata": {
        "colab": {
          "base_uri": "https://localhost:8080/"
        },
        "id": "mJtgZWvY_CoT",
        "outputId": "132ef26b-bdb5-44ab-c48b-2092194b583e"
      },
      "execution_count": 12,
      "outputs": [
        {
          "output_type": "execute_result",
          "data": {
            "text/plain": [
              "False"
            ]
          },
          "metadata": {},
          "execution_count": 12
        }
      ]
    },
    {
      "cell_type": "code",
      "source": [
        "str(1)"
      ],
      "metadata": {
        "colab": {
          "base_uri": "https://localhost:8080/",
          "height": 35
        },
        "id": "HNaGaNut_HXr",
        "outputId": "f3fa19fd-ec46-444b-bc9b-274a2a919760"
      },
      "execution_count": 13,
      "outputs": [
        {
          "output_type": "execute_result",
          "data": {
            "text/plain": [
              "'1'"
            ],
            "application/vnd.google.colaboratory.intrinsic+json": {
              "type": "string"
            }
          },
          "metadata": {},
          "execution_count": 13
        }
      ]
    },
    {
      "cell_type": "code",
      "source": [
        "str(None)"
      ],
      "metadata": {
        "colab": {
          "base_uri": "https://localhost:8080/",
          "height": 35
        },
        "id": "iGOXGXKl_KGZ",
        "outputId": "a83aec97-6f00-493e-fc36-877d1df705a4"
      },
      "execution_count": 14,
      "outputs": [
        {
          "output_type": "execute_result",
          "data": {
            "text/plain": [
              "'None'"
            ],
            "application/vnd.google.colaboratory.intrinsic+json": {
              "type": "string"
            }
          },
          "metadata": {},
          "execution_count": 14
        }
      ]
    },
    {
      "cell_type": "code",
      "source": [
        "#La fonction type() permet de connaître le type d’une variable ou d’une valeur:\n",
        "type(1)"
      ],
      "metadata": {
        "colab": {
          "base_uri": "https://localhost:8080/"
        },
        "id": "L8S07Ma8_N0t",
        "outputId": "ee647a8c-b6eb-48c4-be13-8f085dacf521"
      },
      "execution_count": 15,
      "outputs": [
        {
          "output_type": "execute_result",
          "data": {
            "text/plain": [
              "int"
            ]
          },
          "metadata": {},
          "execution_count": 15
        }
      ]
    },
    {
      "cell_type": "code",
      "source": [
        "type(\"hello\")"
      ],
      "metadata": {
        "colab": {
          "base_uri": "https://localhost:8080/"
        },
        "id": "GSE84xwC_R9j",
        "outputId": "e26e5374-d9d3-4bdb-8fad-4986d836987e"
      },
      "execution_count": 16,
      "outputs": [
        {
          "output_type": "execute_result",
          "data": {
            "text/plain": [
              "str"
            ]
          },
          "metadata": {},
          "execution_count": 16
        }
      ]
    },
    {
      "cell_type": "markdown",
      "source": [
        "L’intérêt principal des fonctions est de pouvoir organiser un programme en le décomposant en traitements de granularité plus faible. Ces traitements deviendront des fonctions dont le nom et la documentation amélioreront la lisibilité et la maintenabilité.\n",
        "\n",
        "Pour déclarer sa propre fonction, on commence par préciser sa signature. Cette signature est délimitée par le mot-clé def et deux-points :. Elle donne le nom de la fonction et la liste des paramètres. Puis vient le corps de la fonction, c’est-à-dire le code à exécuter lorsque cette fonction est appelée. Pour délimiter le corps d’une fonction, Python utilise l’indentation. Chaque ligne de la fonction commence par un certain nombre d’espaces (généralement quatre). Cela donne, à la fois, une indication visuelle au lecteur et à l’interpréteur de code."
      ],
      "metadata": {
        "id": "MQobMvyB_ZZ8"
      }
    },
    {
      "cell_type": "code",
      "source": [
        "def test_fonction():\n",
        "  print(\"Ma première fonction\")\n",
        "\n",
        "test_fonction()"
      ],
      "metadata": {
        "colab": {
          "base_uri": "https://localhost:8080/"
        },
        "id": "RkVJ7oK3_iVZ",
        "outputId": "86a16f34-67e3-477b-9a4d-4107f2ca8331"
      },
      "execution_count": 17,
      "outputs": [
        {
          "output_type": "stream",
          "name": "stdout",
          "text": [
            "Ma première fonction\n"
          ]
        }
      ]
    },
    {
      "cell_type": "code",
      "source": [
        "def presentation(nom):\n",
        "  print(\"Mon nom est: \",nom)\n",
        "\n",
        "presentation('Thomas')"
      ],
      "metadata": {
        "colab": {
          "base_uri": "https://localhost:8080/"
        },
        "id": "nK757gpd_zUA",
        "outputId": "ea78ccce-72f7-4cf1-c999-c0929f8ffbb9"
      },
      "execution_count": 18,
      "outputs": [
        {
          "output_type": "stream",
          "name": "stdout",
          "text": [
            "Mon nom est:  Thomas\n"
          ]
        }
      ]
    },
    {
      "cell_type": "code",
      "source": [
        "#On peut aussi documenter les fonctions\n",
        "def presentation_complet(nom, prenom):\n",
        "  \"\"\"Presentation d'une personne\"\"\"\n",
        "  print(\"Mon nom est: \",prenom,\" \",nom)\n",
        "\n",
        "presentation_complet('Coulibaly','Thomas')"
      ],
      "metadata": {
        "colab": {
          "base_uri": "https://localhost:8080/"
        },
        "id": "4OScRCM4AIPO",
        "outputId": "336a01eb-412e-4491-e253-71cfbce19338"
      },
      "execution_count": 19,
      "outputs": [
        {
          "output_type": "stream",
          "name": "stdout",
          "text": [
            "Mon nom est:  Thomas   Coulibaly\n"
          ]
        }
      ]
    },
    {
      "cell_type": "code",
      "source": [
        "help(presentation_complet)"
      ],
      "metadata": {
        "colab": {
          "base_uri": "https://localhost:8080/"
        },
        "id": "t-XgjAMrArEj",
        "outputId": "da61dd6b-1396-47c3-ada6-c26d6079176c"
      },
      "execution_count": 20,
      "outputs": [
        {
          "output_type": "stream",
          "name": "stdout",
          "text": [
            "Help on function presentation_complet in module __main__:\n",
            "\n",
            "presentation_complet(nom, prenom)\n",
            "    Presentation d'une personne\n",
            "\n"
          ]
        }
      ]
    },
    {
      "cell_type": "code",
      "source": [
        "#Fonction retourne des resultats aussi\n",
        "def addition(a, b):\n",
        "  return a+b\n",
        "\n",
        "addition(1,1)"
      ],
      "metadata": {
        "colab": {
          "base_uri": "https://localhost:8080/"
        },
        "id": "ny7V4cU3A2ly",
        "outputId": "2dfdacf4-0d02-49fe-9c81-5edc2e756f9e"
      },
      "execution_count": 21,
      "outputs": [
        {
          "output_type": "execute_result",
          "data": {
            "text/plain": [
              "2"
            ]
          },
          "metadata": {},
          "execution_count": 21
        }
      ]
    },
    {
      "cell_type": "markdown",
      "source": [
        "**Modules Standards**"
      ],
      "metadata": {
        "id": "yl6iYcvnLNHe"
      }
    },
    {
      "cell_type": "markdown",
      "source": [
        "La bibliothèque standard Python contient déjà beaucoup de modules. La liste ci-dessous énumère les modules les plus utiles à connaître pour débuter en Python :\n",
        "\n",
        "**sys**: variables et fonctions pour interagir avec l’interpréteur Python\n",
        "\n",
        "**os**: fonctions élémentaires pour interagir avec le système d’exploitation\n",
        "\n",
        "**math**: fonctions mathématiques avancées\n",
        "\n",
        "**random**: bibliothèque pour la génération de nombres aléatoires\n",
        "\n",
        "**datetime**: représentation des dates et du temps\n",
        "\n",
        "**calendar**: gestion du calendrier\n",
        "\n",
        "**collections**: structures de données supplémentaires pour les séquences et les dictionnaires"
      ],
      "metadata": {
        "id": "vx2Hu5YsLidv"
      }
    },
    {
      "cell_type": "code",
      "source": [
        "import sys\n",
        "print(sys.version)"
      ],
      "metadata": {
        "id": "_ph5590RLjB2",
        "colab": {
          "base_uri": "https://localhost:8080/"
        },
        "outputId": "c7f0edc7-aaa7-4264-a237-013d8f814b0c"
      },
      "execution_count": 22,
      "outputs": [
        {
          "output_type": "stream",
          "name": "stdout",
          "text": [
            "3.10.12 (main, Jun 11 2023, 05:26:28) [GCC 11.4.0]\n"
          ]
        }
      ]
    },
    {
      "cell_type": "code",
      "source": [
        "import random\n",
        "nombre = random.random()\n",
        "print(nombre)"
      ],
      "metadata": {
        "id": "xPP56sP9LkPd",
        "colab": {
          "base_uri": "https://localhost:8080/"
        },
        "outputId": "f729119a-3cc8-49b4-adf9-24f1a1a7c2dc"
      },
      "execution_count": 24,
      "outputs": [
        {
          "output_type": "stream",
          "name": "stdout",
          "text": [
            "0.10905361371034006\n"
          ]
        }
      ]
    },
    {
      "cell_type": "code",
      "source": [
        "#On peut importer plusieurs modules en même temps\n",
        "import random, os, sys"
      ],
      "metadata": {
        "id": "OeeDsgvcLkz-"
      },
      "execution_count": 25,
      "outputs": []
    },
    {
      "cell_type": "code",
      "source": [
        "#On peut utiliser des alias\n",
        "import random as r\n",
        "nombre = r.random()\n",
        "print(nombre)"
      ],
      "metadata": {
        "colab": {
          "base_uri": "https://localhost:8080/"
        },
        "id": "dKKf-Dtg1ReK",
        "outputId": "eaf87ba3-eb51-478d-e510-829f02a1ba22"
      },
      "execution_count": 26,
      "outputs": [
        {
          "output_type": "stream",
          "name": "stdout",
          "text": [
            "0.4515722519238896\n"
          ]
        }
      ]
    },
    {
      "cell_type": "code",
      "source": [
        "#On peut aussi utiliser un nom directement d'un module\n",
        "from sys import version\n",
        "print(version)"
      ],
      "metadata": {
        "colab": {
          "base_uri": "https://localhost:8080/"
        },
        "id": "zQoQvKlN1fsC",
        "outputId": "690be596-d903-4bad-f6cb-23fd7ac97f8c"
      },
      "execution_count": 27,
      "outputs": [
        {
          "output_type": "stream",
          "name": "stdout",
          "text": [
            "3.10.12 (main, Jun 11 2023, 05:26:28) [GCC 11.4.0]\n"
          ]
        }
      ]
    },
    {
      "cell_type": "code",
      "source": [
        "#En plus des noms, on peut l'appliquer sur des fonctions aussi\n",
        "from math import factorial\n",
        "f = factorial(5)\n",
        "print(f)"
      ],
      "metadata": {
        "colab": {
          "base_uri": "https://localhost:8080/"
        },
        "id": "sjMXytXP121x",
        "outputId": "33f79ff9-8069-4d5a-cc30-f99e51b10513"
      },
      "execution_count": 28,
      "outputs": [
        {
          "output_type": "stream",
          "name": "stdout",
          "text": [
            "120\n"
          ]
        }
      ]
    },
    {
      "cell_type": "code",
      "source": [
        "#On peut aussi importer toutes les fonctions d'un module\n",
        "from math import *\n",
        "v = factorial(5)\n",
        "f = floor(10.25)\n",
        "l = log(2)\n",
        "\n",
        "print(v, f, l)"
      ],
      "metadata": {
        "colab": {
          "base_uri": "https://localhost:8080/"
        },
        "id": "cRr3m9m22KHS",
        "outputId": "38fd76dd-5929-4223-8e6b-5fa640a03d3e"
      },
      "execution_count": 29,
      "outputs": [
        {
          "output_type": "stream",
          "name": "stdout",
          "text": [
            "120 10 0.6931471805599453\n"
          ]
        }
      ]
    },
    {
      "cell_type": "markdown",
      "source": [
        "**Conclusion**"
      ],
      "metadata": {
        "id": "TarzpLbtLUXW"
      }
    }
  ]
}